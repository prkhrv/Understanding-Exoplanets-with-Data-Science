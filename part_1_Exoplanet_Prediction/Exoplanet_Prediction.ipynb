{
 "cells": [
  {
   "cell_type": "code",
   "execution_count": 1,
   "id": "3b6a5155",
   "metadata": {},
   "outputs": [],
   "source": [
    "import os\n",
    "# Standard libraries\n",
    "import pandas as pd\n",
    "import numpy as np\n",
    "import matplotlib.cm as cm\n",
    "import pickle\n",
    "# import pyspark\n",
    "\n",
    "# Data Preprocessing\n",
    "from sklearn.preprocessing import StandardScaler, Normalizer\n",
    "from sklearn import preprocessing\n",
    "from sklearn.preprocessing import MinMaxScaler\n",
    "from sklearn.model_selection import train_test_split, cross_validate\n",
    "from sklearn.decomposition import PCA\n",
    "\n",
    "\n",
    "# ML Models\n",
    "from sklearn.neighbors import KNeighborsClassifier\n",
    "from sklearn.linear_model import LogisticRegression\n",
    "from sklearn.model_selection import GridSearchCV, RandomizedSearchCV\n",
    "from sklearn.svm import SVC, LinearSVC\n",
    "from sklearn.tree import DecisionTreeClassifier\n",
    "from sklearn.naive_bayes import GaussianNB, BernoulliNB\n",
    "from sklearn.ensemble import (RandomForestClassifier, GradientBoostingClassifier, BaggingClassifier)\n",
    "import scipy\n",
    "\n",
    "# Performance metrics\n",
    "from sklearn.model_selection import cross_val_score, KFold\n",
    "from sklearn.metrics import accuracy_score, make_scorer\n",
    "from sklearn.metrics import precision_recall_fscore_support as score\n",
    "from sklearn.metrics import roc_curve, auc, confusion_matrix, roc_auc_score\n",
    "from sklearn.metrics import precision_score, recall_score, precision_recall_curve,f1_score, fbeta_score\n",
    "\n",
    "# Visualization libraries\n",
    "import matplotlib.pyplot as plt\n",
    "import seaborn as sns\n",
    "sns.set()\n",
    "%matplotlib inline\n",
    "\n",
    "\n",
    "#yellowbrick\n",
    "\n",
    "from yellowbrick.target import FeatureCorrelation\n",
    "from yellowbrick.features import rank2d, RadViz, Rank2D\n",
    "from yellowbrick.classifier import DiscriminationThreshold, PrecisionRecallCurve, ROCAUC\n",
    "from yellowbrick.model_selection import feature_importances, CVScores, RFECV, FeatureImportances\n",
    "from yellowbrick.model_selection import LearningCurve, ValidationCurve\n",
    "from yellowbrick.classifier import ClassificationReport, ClassPredictionError, ConfusionMatrix\n",
    "import warnings \n",
    "warnings.filterwarnings('ignore')\n",
    "\n",
    "import missingno as msno"
   ]
  },
  {
   "cell_type": "code",
   "execution_count": 2,
   "id": "d0c5004c",
   "metadata": {},
   "outputs": [
    {
     "name": "stdout",
     "output_type": "stream",
     "text": [
      "<class 'pandas.core.frame.DataFrame'>\n",
      "RangeIndex: 9564 entries, 0 to 9563\n",
      "Data columns (total 49 columns):\n",
      " #   Column             Non-Null Count  Dtype  \n",
      "---  ------             --------------  -----  \n",
      " 0   kepid              9564 non-null   int64  \n",
      " 1   kepoi_name         9564 non-null   object \n",
      " 2   kepler_name        2365 non-null   object \n",
      " 3   koi_disposition    9564 non-null   object \n",
      " 4   koi_pdisposition   9564 non-null   object \n",
      " 5   koi_score          8054 non-null   float64\n",
      " 6   koi_fpflag_nt      9564 non-null   int64  \n",
      " 7   koi_fpflag_ss      9564 non-null   int64  \n",
      " 8   koi_fpflag_co      9564 non-null   int64  \n",
      " 9   koi_fpflag_ec      9564 non-null   int64  \n",
      " 10  koi_period         9564 non-null   float64\n",
      " 11  koi_period_err1    9110 non-null   float64\n",
      " 12  koi_period_err2    9110 non-null   float64\n",
      " 13  koi_time0bk        9564 non-null   float64\n",
      " 14  koi_time0bk_err1   9110 non-null   float64\n",
      " 15  koi_time0bk_err2   9110 non-null   float64\n",
      " 16  koi_impact         9201 non-null   float64\n",
      " 17  koi_impact_err1    9110 non-null   float64\n",
      " 18  koi_impact_err2    9110 non-null   float64\n",
      " 19  koi_duration       9564 non-null   float64\n",
      " 20  koi_duration_err1  9110 non-null   float64\n",
      " 21  koi_duration_err2  9110 non-null   float64\n",
      " 22  koi_depth          9201 non-null   float64\n",
      " 23  koi_depth_err1     9110 non-null   float64\n",
      " 24  koi_depth_err2     9110 non-null   float64\n",
      " 25  koi_prad           9201 non-null   float64\n",
      " 26  koi_prad_err1      9201 non-null   float64\n",
      " 27  koi_prad_err2      9201 non-null   float64\n",
      " 28  koi_teq            9201 non-null   float64\n",
      " 29  koi_teq_err1       0 non-null      float64\n",
      " 30  koi_teq_err2       0 non-null      float64\n",
      " 31  koi_insol          9243 non-null   float64\n",
      " 32  koi_insol_err1     9243 non-null   float64\n",
      " 33  koi_insol_err2     9243 non-null   float64\n",
      " 34  koi_model_snr      9201 non-null   float64\n",
      " 35  koi_tce_plnt_num   9218 non-null   float64\n",
      " 36  koi_tce_delivname  9218 non-null   object \n",
      " 37  koi_steff          9201 non-null   float64\n",
      " 38  koi_steff_err1     9096 non-null   float64\n",
      " 39  koi_steff_err2     9081 non-null   float64\n",
      " 40  koi_slogg          9201 non-null   float64\n",
      " 41  koi_slogg_err1     9096 non-null   float64\n",
      " 42  koi_slogg_err2     9096 non-null   float64\n",
      " 43  koi_srad           9201 non-null   float64\n",
      " 44  koi_srad_err1      9096 non-null   float64\n",
      " 45  koi_srad_err2      9096 non-null   float64\n",
      " 46  ra                 9564 non-null   float64\n",
      " 47  dec                9564 non-null   float64\n",
      " 48  koi_kepmag         9563 non-null   float64\n",
      "dtypes: float64(39), int64(5), object(5)\n",
      "memory usage: 3.6+ MB\n"
     ]
    }
   ],
   "source": [
    "#Get Exo-Planet file and load it into pandas DataFrame\n",
    "file_name = 'cumulative_2021'\n",
    "input_dir = os.getcwd()\n",
    "data_dir = os.path.join(input_dir,\"data\")\n",
    "kep_file = os.path.join(data_dir, file_name + '.csv')\n",
    "df = pd.read_csv(kep_file)\n",
    "df.info()"
   ]
  },
  {
   "cell_type": "code",
   "execution_count": 3,
   "id": "d655159d",
   "metadata": {},
   "outputs": [
    {
     "data": {
      "text/plain": [
       "(9564, 49)"
      ]
     },
     "execution_count": 3,
     "metadata": {},
     "output_type": "execute_result"
    }
   ],
   "source": [
    "df.shape"
   ]
  },
  {
   "cell_type": "code",
   "execution_count": 4,
   "id": "14e02953",
   "metadata": {},
   "outputs": [
    {
     "data": {
      "text/html": [
       "<div>\n",
       "<style scoped>\n",
       "    .dataframe tbody tr th:only-of-type {\n",
       "        vertical-align: middle;\n",
       "    }\n",
       "\n",
       "    .dataframe tbody tr th {\n",
       "        vertical-align: top;\n",
       "    }\n",
       "\n",
       "    .dataframe thead th {\n",
       "        text-align: right;\n",
       "    }\n",
       "</style>\n",
       "<table border=\"1\" class=\"dataframe\">\n",
       "  <thead>\n",
       "    <tr style=\"text-align: right;\">\n",
       "      <th></th>\n",
       "      <th>kepid</th>\n",
       "      <th>kepoi_name</th>\n",
       "      <th>kepler_name</th>\n",
       "      <th>koi_disposition</th>\n",
       "      <th>koi_pdisposition</th>\n",
       "      <th>koi_score</th>\n",
       "      <th>koi_fpflag_nt</th>\n",
       "      <th>koi_fpflag_ss</th>\n",
       "      <th>koi_fpflag_co</th>\n",
       "      <th>koi_fpflag_ec</th>\n",
       "      <th>...</th>\n",
       "      <th>koi_steff_err2</th>\n",
       "      <th>koi_slogg</th>\n",
       "      <th>koi_slogg_err1</th>\n",
       "      <th>koi_slogg_err2</th>\n",
       "      <th>koi_srad</th>\n",
       "      <th>koi_srad_err1</th>\n",
       "      <th>koi_srad_err2</th>\n",
       "      <th>ra</th>\n",
       "      <th>dec</th>\n",
       "      <th>koi_kepmag</th>\n",
       "    </tr>\n",
       "  </thead>\n",
       "  <tbody>\n",
       "    <tr>\n",
       "      <th>0</th>\n",
       "      <td>10797460</td>\n",
       "      <td>K00752.01</td>\n",
       "      <td>Kepler-227 b</td>\n",
       "      <td>CONFIRMED</td>\n",
       "      <td>CANDIDATE</td>\n",
       "      <td>1.000</td>\n",
       "      <td>0</td>\n",
       "      <td>0</td>\n",
       "      <td>0</td>\n",
       "      <td>0</td>\n",
       "      <td>...</td>\n",
       "      <td>-81.0</td>\n",
       "      <td>4.467</td>\n",
       "      <td>0.064</td>\n",
       "      <td>-0.096</td>\n",
       "      <td>0.927</td>\n",
       "      <td>0.105</td>\n",
       "      <td>-0.061</td>\n",
       "      <td>291.93423</td>\n",
       "      <td>48.141651</td>\n",
       "      <td>15.347</td>\n",
       "    </tr>\n",
       "    <tr>\n",
       "      <th>1</th>\n",
       "      <td>10797460</td>\n",
       "      <td>K00752.02</td>\n",
       "      <td>Kepler-227 c</td>\n",
       "      <td>CONFIRMED</td>\n",
       "      <td>CANDIDATE</td>\n",
       "      <td>0.969</td>\n",
       "      <td>0</td>\n",
       "      <td>0</td>\n",
       "      <td>0</td>\n",
       "      <td>0</td>\n",
       "      <td>...</td>\n",
       "      <td>-81.0</td>\n",
       "      <td>4.467</td>\n",
       "      <td>0.064</td>\n",
       "      <td>-0.096</td>\n",
       "      <td>0.927</td>\n",
       "      <td>0.105</td>\n",
       "      <td>-0.061</td>\n",
       "      <td>291.93423</td>\n",
       "      <td>48.141651</td>\n",
       "      <td>15.347</td>\n",
       "    </tr>\n",
       "    <tr>\n",
       "      <th>2</th>\n",
       "      <td>10811496</td>\n",
       "      <td>K00753.01</td>\n",
       "      <td>NaN</td>\n",
       "      <td>CANDIDATE</td>\n",
       "      <td>CANDIDATE</td>\n",
       "      <td>0.000</td>\n",
       "      <td>0</td>\n",
       "      <td>0</td>\n",
       "      <td>0</td>\n",
       "      <td>0</td>\n",
       "      <td>...</td>\n",
       "      <td>-176.0</td>\n",
       "      <td>4.544</td>\n",
       "      <td>0.044</td>\n",
       "      <td>-0.176</td>\n",
       "      <td>0.868</td>\n",
       "      <td>0.233</td>\n",
       "      <td>-0.078</td>\n",
       "      <td>297.00482</td>\n",
       "      <td>48.134129</td>\n",
       "      <td>15.436</td>\n",
       "    </tr>\n",
       "    <tr>\n",
       "      <th>3</th>\n",
       "      <td>10848459</td>\n",
       "      <td>K00754.01</td>\n",
       "      <td>NaN</td>\n",
       "      <td>FALSE POSITIVE</td>\n",
       "      <td>FALSE POSITIVE</td>\n",
       "      <td>0.000</td>\n",
       "      <td>0</td>\n",
       "      <td>1</td>\n",
       "      <td>0</td>\n",
       "      <td>0</td>\n",
       "      <td>...</td>\n",
       "      <td>-174.0</td>\n",
       "      <td>4.564</td>\n",
       "      <td>0.053</td>\n",
       "      <td>-0.168</td>\n",
       "      <td>0.791</td>\n",
       "      <td>0.201</td>\n",
       "      <td>-0.067</td>\n",
       "      <td>285.53461</td>\n",
       "      <td>48.285210</td>\n",
       "      <td>15.597</td>\n",
       "    </tr>\n",
       "    <tr>\n",
       "      <th>4</th>\n",
       "      <td>10854555</td>\n",
       "      <td>K00755.01</td>\n",
       "      <td>Kepler-664 b</td>\n",
       "      <td>CONFIRMED</td>\n",
       "      <td>CANDIDATE</td>\n",
       "      <td>1.000</td>\n",
       "      <td>0</td>\n",
       "      <td>0</td>\n",
       "      <td>0</td>\n",
       "      <td>0</td>\n",
       "      <td>...</td>\n",
       "      <td>-211.0</td>\n",
       "      <td>4.438</td>\n",
       "      <td>0.070</td>\n",
       "      <td>-0.210</td>\n",
       "      <td>1.046</td>\n",
       "      <td>0.334</td>\n",
       "      <td>-0.133</td>\n",
       "      <td>288.75488</td>\n",
       "      <td>48.226200</td>\n",
       "      <td>15.509</td>\n",
       "    </tr>\n",
       "  </tbody>\n",
       "</table>\n",
       "<p>5 rows × 49 columns</p>\n",
       "</div>"
      ],
      "text/plain": [
       "      kepid kepoi_name   kepler_name koi_disposition koi_pdisposition  \\\n",
       "0  10797460  K00752.01  Kepler-227 b       CONFIRMED        CANDIDATE   \n",
       "1  10797460  K00752.02  Kepler-227 c       CONFIRMED        CANDIDATE   \n",
       "2  10811496  K00753.01           NaN       CANDIDATE        CANDIDATE   \n",
       "3  10848459  K00754.01           NaN  FALSE POSITIVE   FALSE POSITIVE   \n",
       "4  10854555  K00755.01  Kepler-664 b       CONFIRMED        CANDIDATE   \n",
       "\n",
       "   koi_score  koi_fpflag_nt  koi_fpflag_ss  koi_fpflag_co  koi_fpflag_ec  ...  \\\n",
       "0      1.000              0              0              0              0  ...   \n",
       "1      0.969              0              0              0              0  ...   \n",
       "2      0.000              0              0              0              0  ...   \n",
       "3      0.000              0              1              0              0  ...   \n",
       "4      1.000              0              0              0              0  ...   \n",
       "\n",
       "   koi_steff_err2  koi_slogg  koi_slogg_err1  koi_slogg_err2  koi_srad  \\\n",
       "0           -81.0      4.467           0.064          -0.096     0.927   \n",
       "1           -81.0      4.467           0.064          -0.096     0.927   \n",
       "2          -176.0      4.544           0.044          -0.176     0.868   \n",
       "3          -174.0      4.564           0.053          -0.168     0.791   \n",
       "4          -211.0      4.438           0.070          -0.210     1.046   \n",
       "\n",
       "   koi_srad_err1  koi_srad_err2         ra        dec  koi_kepmag  \n",
       "0          0.105         -0.061  291.93423  48.141651      15.347  \n",
       "1          0.105         -0.061  291.93423  48.141651      15.347  \n",
       "2          0.233         -0.078  297.00482  48.134129      15.436  \n",
       "3          0.201         -0.067  285.53461  48.285210      15.597  \n",
       "4          0.334         -0.133  288.75488  48.226200      15.509  \n",
       "\n",
       "[5 rows x 49 columns]"
      ]
     },
     "execution_count": 4,
     "metadata": {},
     "output_type": "execute_result"
    }
   ],
   "source": [
    "df.head()"
   ]
  },
  {
   "cell_type": "markdown",
   "id": "40116245",
   "metadata": {},
   "source": [
    "### Selecting Columns for Prediction\n",
    "\n",
    "\n",
    "   *We eliminate all the columns that are either of the following*\n",
    "\n",
    "    [x]Assigned after other values are measured from readings\n",
    "    \n",
    "    [x]Contain ID or name attributes\n",
    "    \n",
    "    [x]Are error attributes\n",
    "\n"
   ]
  },
  {
   "cell_type": "code",
   "execution_count": 5,
   "id": "6153053c",
   "metadata": {},
   "outputs": [],
   "source": [
    "ALL_COLUMNS = df.columns\n",
    "ERROR_COLUMNS = [col for col in ALL_COLUMNS if \"err\" in col]\n",
    "EXCLUDE = [\"rowid\", \"kepid\", \"kepoi_name\",\"kepler_name\",\"koi_score\", \"koi_disposition\", \"koi_pdisposition\", \"koi_tce_delivname\", \"koi_tce_plnt_num\"] + ERROR_COLUMNS\n",
    "TO_USE = list(set(ALL_COLUMNS) - set(EXCLUDE))"
   ]
  },
  {
   "cell_type": "code",
   "execution_count": 6,
   "id": "98e56ae2",
   "metadata": {},
   "outputs": [
    {
     "name": "stdout",
     "output_type": "stream",
     "text": [
      "Columns being analysed: 19\n"
     ]
    },
    {
     "data": {
      "text/html": [
       "<div>\n",
       "<style scoped>\n",
       "    .dataframe tbody tr th:only-of-type {\n",
       "        vertical-align: middle;\n",
       "    }\n",
       "\n",
       "    .dataframe tbody tr th {\n",
       "        vertical-align: top;\n",
       "    }\n",
       "\n",
       "    .dataframe thead th {\n",
       "        text-align: right;\n",
       "    }\n",
       "</style>\n",
       "<table border=\"1\" class=\"dataframe\">\n",
       "  <thead>\n",
       "    <tr style=\"text-align: right;\">\n",
       "      <th></th>\n",
       "      <th>koi_time0bk</th>\n",
       "      <th>koi_impact</th>\n",
       "      <th>koi_fpflag_ss</th>\n",
       "      <th>koi_fpflag_co</th>\n",
       "      <th>koi_kepmag</th>\n",
       "      <th>koi_fpflag_nt</th>\n",
       "      <th>koi_slogg</th>\n",
       "      <th>koi_prad</th>\n",
       "      <th>koi_model_snr</th>\n",
       "      <th>koi_steff</th>\n",
       "      <th>koi_srad</th>\n",
       "      <th>koi_depth</th>\n",
       "      <th>ra</th>\n",
       "      <th>koi_fpflag_ec</th>\n",
       "      <th>koi_teq</th>\n",
       "      <th>dec</th>\n",
       "      <th>koi_insol</th>\n",
       "      <th>koi_period</th>\n",
       "      <th>koi_duration</th>\n",
       "    </tr>\n",
       "  </thead>\n",
       "  <tbody>\n",
       "    <tr>\n",
       "      <th>0</th>\n",
       "      <td>170.538750</td>\n",
       "      <td>0.146</td>\n",
       "      <td>0</td>\n",
       "      <td>0</td>\n",
       "      <td>15.347</td>\n",
       "      <td>0</td>\n",
       "      <td>4.467</td>\n",
       "      <td>2.26</td>\n",
       "      <td>35.8</td>\n",
       "      <td>5455.0</td>\n",
       "      <td>0.927</td>\n",
       "      <td>616.0</td>\n",
       "      <td>291.93423</td>\n",
       "      <td>0</td>\n",
       "      <td>793.0</td>\n",
       "      <td>48.141651</td>\n",
       "      <td>93.59</td>\n",
       "      <td>9.488036</td>\n",
       "      <td>2.95750</td>\n",
       "    </tr>\n",
       "    <tr>\n",
       "      <th>1</th>\n",
       "      <td>162.513840</td>\n",
       "      <td>0.586</td>\n",
       "      <td>0</td>\n",
       "      <td>0</td>\n",
       "      <td>15.347</td>\n",
       "      <td>0</td>\n",
       "      <td>4.467</td>\n",
       "      <td>2.83</td>\n",
       "      <td>25.8</td>\n",
       "      <td>5455.0</td>\n",
       "      <td>0.927</td>\n",
       "      <td>875.0</td>\n",
       "      <td>291.93423</td>\n",
       "      <td>0</td>\n",
       "      <td>443.0</td>\n",
       "      <td>48.141651</td>\n",
       "      <td>9.11</td>\n",
       "      <td>54.418383</td>\n",
       "      <td>4.50700</td>\n",
       "    </tr>\n",
       "    <tr>\n",
       "      <th>2</th>\n",
       "      <td>175.850252</td>\n",
       "      <td>0.969</td>\n",
       "      <td>0</td>\n",
       "      <td>0</td>\n",
       "      <td>15.436</td>\n",
       "      <td>0</td>\n",
       "      <td>4.544</td>\n",
       "      <td>14.60</td>\n",
       "      <td>76.3</td>\n",
       "      <td>5853.0</td>\n",
       "      <td>0.868</td>\n",
       "      <td>10800.0</td>\n",
       "      <td>297.00482</td>\n",
       "      <td>0</td>\n",
       "      <td>638.0</td>\n",
       "      <td>48.134129</td>\n",
       "      <td>39.30</td>\n",
       "      <td>19.899140</td>\n",
       "      <td>1.78220</td>\n",
       "    </tr>\n",
       "    <tr>\n",
       "      <th>3</th>\n",
       "      <td>170.307565</td>\n",
       "      <td>1.276</td>\n",
       "      <td>1</td>\n",
       "      <td>0</td>\n",
       "      <td>15.597</td>\n",
       "      <td>0</td>\n",
       "      <td>4.564</td>\n",
       "      <td>33.46</td>\n",
       "      <td>505.6</td>\n",
       "      <td>5805.0</td>\n",
       "      <td>0.791</td>\n",
       "      <td>8080.0</td>\n",
       "      <td>285.53461</td>\n",
       "      <td>0</td>\n",
       "      <td>1395.0</td>\n",
       "      <td>48.285210</td>\n",
       "      <td>891.96</td>\n",
       "      <td>1.736952</td>\n",
       "      <td>2.40641</td>\n",
       "    </tr>\n",
       "    <tr>\n",
       "      <th>4</th>\n",
       "      <td>171.595550</td>\n",
       "      <td>0.701</td>\n",
       "      <td>0</td>\n",
       "      <td>0</td>\n",
       "      <td>15.509</td>\n",
       "      <td>0</td>\n",
       "      <td>4.438</td>\n",
       "      <td>2.75</td>\n",
       "      <td>40.9</td>\n",
       "      <td>6031.0</td>\n",
       "      <td>1.046</td>\n",
       "      <td>603.0</td>\n",
       "      <td>288.75488</td>\n",
       "      <td>0</td>\n",
       "      <td>1406.0</td>\n",
       "      <td>48.226200</td>\n",
       "      <td>926.16</td>\n",
       "      <td>2.525592</td>\n",
       "      <td>1.65450</td>\n",
       "    </tr>\n",
       "  </tbody>\n",
       "</table>\n",
       "</div>"
      ],
      "text/plain": [
       "   koi_time0bk  koi_impact  koi_fpflag_ss  koi_fpflag_co  koi_kepmag  \\\n",
       "0   170.538750       0.146              0              0      15.347   \n",
       "1   162.513840       0.586              0              0      15.347   \n",
       "2   175.850252       0.969              0              0      15.436   \n",
       "3   170.307565       1.276              1              0      15.597   \n",
       "4   171.595550       0.701              0              0      15.509   \n",
       "\n",
       "   koi_fpflag_nt  koi_slogg  koi_prad  koi_model_snr  koi_steff  koi_srad  \\\n",
       "0              0      4.467      2.26           35.8     5455.0     0.927   \n",
       "1              0      4.467      2.83           25.8     5455.0     0.927   \n",
       "2              0      4.544     14.60           76.3     5853.0     0.868   \n",
       "3              0      4.564     33.46          505.6     5805.0     0.791   \n",
       "4              0      4.438      2.75           40.9     6031.0     1.046   \n",
       "\n",
       "   koi_depth         ra  koi_fpflag_ec  koi_teq        dec  koi_insol  \\\n",
       "0      616.0  291.93423              0    793.0  48.141651      93.59   \n",
       "1      875.0  291.93423              0    443.0  48.141651       9.11   \n",
       "2    10800.0  297.00482              0    638.0  48.134129      39.30   \n",
       "3     8080.0  285.53461              0   1395.0  48.285210     891.96   \n",
       "4      603.0  288.75488              0   1406.0  48.226200     926.16   \n",
       "\n",
       "   koi_period  koi_duration  \n",
       "0    9.488036       2.95750  \n",
       "1   54.418383       4.50700  \n",
       "2   19.899140       1.78220  \n",
       "3    1.736952       2.40641  \n",
       "4    2.525592       1.65450  "
      ]
     },
     "execution_count": 6,
     "metadata": {},
     "output_type": "execute_result"
    }
   ],
   "source": [
    "print(f\"Columns being analysed: {len(TO_USE)}\")\n",
    "df[TO_USE].head()"
   ]
  },
  {
   "cell_type": "markdown",
   "id": "7032e0c7",
   "metadata": {},
   "source": [
    "\n",
    "### Extracting Dataframe Subset\n",
    "\n",
    "We extract only those rows which are either positive or negative examples i.e. the disposition value is not CANDIDATE.\n",
    "This is because CANDIDATE is the default value for all obects of interest picked up by Kepler. The labels CONFIRMED and FALSE POSITIVE serve as our positive and negative labels\n",
    "Difference between disposition and pdisposition?\n",
    "\n",
    "We can use either of the two columns as our target variable, since both of them contain the target labels we desire. While pdisposition gives us the most probable labels based on the physical explanation given by the readings, disposition values are based on the NASA Exoplanet Archive Data.\n"
   ]
  },
  {
   "cell_type": "code",
   "execution_count": 7,
   "id": "4618a9f7",
   "metadata": {},
   "outputs": [
    {
     "data": {
      "text/plain": [
       "array(['CANDIDATE', 'CONFIRMED', 'FALSE POSITIVE'], dtype=object)"
      ]
     },
     "execution_count": 7,
     "metadata": {},
     "output_type": "execute_result"
    }
   ],
   "source": [
    "np.unique(df[\"koi_disposition\"].values)"
   ]
  },
  {
   "cell_type": "code",
   "execution_count": 8,
   "id": "7445bdd9",
   "metadata": {},
   "outputs": [
    {
     "name": "stdout",
     "output_type": "stream",
     "text": [
      "(7203, 49)\n"
     ]
    },
    {
     "data": {
      "text/html": [
       "<div>\n",
       "<style scoped>\n",
       "    .dataframe tbody tr th:only-of-type {\n",
       "        vertical-align: middle;\n",
       "    }\n",
       "\n",
       "    .dataframe tbody tr th {\n",
       "        vertical-align: top;\n",
       "    }\n",
       "\n",
       "    .dataframe thead th {\n",
       "        text-align: right;\n",
       "    }\n",
       "</style>\n",
       "<table border=\"1\" class=\"dataframe\">\n",
       "  <thead>\n",
       "    <tr style=\"text-align: right;\">\n",
       "      <th></th>\n",
       "      <th>kepid</th>\n",
       "      <th>kepoi_name</th>\n",
       "      <th>kepler_name</th>\n",
       "      <th>koi_disposition</th>\n",
       "      <th>koi_pdisposition</th>\n",
       "      <th>koi_score</th>\n",
       "      <th>koi_fpflag_nt</th>\n",
       "      <th>koi_fpflag_ss</th>\n",
       "      <th>koi_fpflag_co</th>\n",
       "      <th>koi_fpflag_ec</th>\n",
       "      <th>...</th>\n",
       "      <th>koi_steff_err2</th>\n",
       "      <th>koi_slogg</th>\n",
       "      <th>koi_slogg_err1</th>\n",
       "      <th>koi_slogg_err2</th>\n",
       "      <th>koi_srad</th>\n",
       "      <th>koi_srad_err1</th>\n",
       "      <th>koi_srad_err2</th>\n",
       "      <th>ra</th>\n",
       "      <th>dec</th>\n",
       "      <th>koi_kepmag</th>\n",
       "    </tr>\n",
       "  </thead>\n",
       "  <tbody>\n",
       "    <tr>\n",
       "      <th>0</th>\n",
       "      <td>10797460</td>\n",
       "      <td>K00752.01</td>\n",
       "      <td>Kepler-227 b</td>\n",
       "      <td>CONFIRMED</td>\n",
       "      <td>CANDIDATE</td>\n",
       "      <td>1.000</td>\n",
       "      <td>0</td>\n",
       "      <td>0</td>\n",
       "      <td>0</td>\n",
       "      <td>0</td>\n",
       "      <td>...</td>\n",
       "      <td>-81.0</td>\n",
       "      <td>4.467</td>\n",
       "      <td>0.064</td>\n",
       "      <td>-0.096</td>\n",
       "      <td>0.927</td>\n",
       "      <td>0.105</td>\n",
       "      <td>-0.061</td>\n",
       "      <td>291.93423</td>\n",
       "      <td>48.141651</td>\n",
       "      <td>15.347</td>\n",
       "    </tr>\n",
       "    <tr>\n",
       "      <th>1</th>\n",
       "      <td>10797460</td>\n",
       "      <td>K00752.02</td>\n",
       "      <td>Kepler-227 c</td>\n",
       "      <td>CONFIRMED</td>\n",
       "      <td>CANDIDATE</td>\n",
       "      <td>0.969</td>\n",
       "      <td>0</td>\n",
       "      <td>0</td>\n",
       "      <td>0</td>\n",
       "      <td>0</td>\n",
       "      <td>...</td>\n",
       "      <td>-81.0</td>\n",
       "      <td>4.467</td>\n",
       "      <td>0.064</td>\n",
       "      <td>-0.096</td>\n",
       "      <td>0.927</td>\n",
       "      <td>0.105</td>\n",
       "      <td>-0.061</td>\n",
       "      <td>291.93423</td>\n",
       "      <td>48.141651</td>\n",
       "      <td>15.347</td>\n",
       "    </tr>\n",
       "    <tr>\n",
       "      <th>3</th>\n",
       "      <td>10848459</td>\n",
       "      <td>K00754.01</td>\n",
       "      <td>NaN</td>\n",
       "      <td>FALSE POSITIVE</td>\n",
       "      <td>FALSE POSITIVE</td>\n",
       "      <td>0.000</td>\n",
       "      <td>0</td>\n",
       "      <td>1</td>\n",
       "      <td>0</td>\n",
       "      <td>0</td>\n",
       "      <td>...</td>\n",
       "      <td>-174.0</td>\n",
       "      <td>4.564</td>\n",
       "      <td>0.053</td>\n",
       "      <td>-0.168</td>\n",
       "      <td>0.791</td>\n",
       "      <td>0.201</td>\n",
       "      <td>-0.067</td>\n",
       "      <td>285.53461</td>\n",
       "      <td>48.285210</td>\n",
       "      <td>15.597</td>\n",
       "    </tr>\n",
       "    <tr>\n",
       "      <th>4</th>\n",
       "      <td>10854555</td>\n",
       "      <td>K00755.01</td>\n",
       "      <td>Kepler-664 b</td>\n",
       "      <td>CONFIRMED</td>\n",
       "      <td>CANDIDATE</td>\n",
       "      <td>1.000</td>\n",
       "      <td>0</td>\n",
       "      <td>0</td>\n",
       "      <td>0</td>\n",
       "      <td>0</td>\n",
       "      <td>...</td>\n",
       "      <td>-211.0</td>\n",
       "      <td>4.438</td>\n",
       "      <td>0.070</td>\n",
       "      <td>-0.210</td>\n",
       "      <td>1.046</td>\n",
       "      <td>0.334</td>\n",
       "      <td>-0.133</td>\n",
       "      <td>288.75488</td>\n",
       "      <td>48.226200</td>\n",
       "      <td>15.509</td>\n",
       "    </tr>\n",
       "    <tr>\n",
       "      <th>5</th>\n",
       "      <td>10872983</td>\n",
       "      <td>K00756.01</td>\n",
       "      <td>Kepler-228 d</td>\n",
       "      <td>CONFIRMED</td>\n",
       "      <td>CANDIDATE</td>\n",
       "      <td>1.000</td>\n",
       "      <td>0</td>\n",
       "      <td>0</td>\n",
       "      <td>0</td>\n",
       "      <td>0</td>\n",
       "      <td>...</td>\n",
       "      <td>-232.0</td>\n",
       "      <td>4.486</td>\n",
       "      <td>0.054</td>\n",
       "      <td>-0.229</td>\n",
       "      <td>0.972</td>\n",
       "      <td>0.315</td>\n",
       "      <td>-0.105</td>\n",
       "      <td>296.28613</td>\n",
       "      <td>48.224670</td>\n",
       "      <td>15.714</td>\n",
       "    </tr>\n",
       "  </tbody>\n",
       "</table>\n",
       "<p>5 rows × 49 columns</p>\n",
       "</div>"
      ],
      "text/plain": [
       "      kepid kepoi_name   kepler_name koi_disposition koi_pdisposition  \\\n",
       "0  10797460  K00752.01  Kepler-227 b       CONFIRMED        CANDIDATE   \n",
       "1  10797460  K00752.02  Kepler-227 c       CONFIRMED        CANDIDATE   \n",
       "3  10848459  K00754.01           NaN  FALSE POSITIVE   FALSE POSITIVE   \n",
       "4  10854555  K00755.01  Kepler-664 b       CONFIRMED        CANDIDATE   \n",
       "5  10872983  K00756.01  Kepler-228 d       CONFIRMED        CANDIDATE   \n",
       "\n",
       "   koi_score  koi_fpflag_nt  koi_fpflag_ss  koi_fpflag_co  koi_fpflag_ec  ...  \\\n",
       "0      1.000              0              0              0              0  ...   \n",
       "1      0.969              0              0              0              0  ...   \n",
       "3      0.000              0              1              0              0  ...   \n",
       "4      1.000              0              0              0              0  ...   \n",
       "5      1.000              0              0              0              0  ...   \n",
       "\n",
       "   koi_steff_err2  koi_slogg  koi_slogg_err1  koi_slogg_err2  koi_srad  \\\n",
       "0           -81.0      4.467           0.064          -0.096     0.927   \n",
       "1           -81.0      4.467           0.064          -0.096     0.927   \n",
       "3          -174.0      4.564           0.053          -0.168     0.791   \n",
       "4          -211.0      4.438           0.070          -0.210     1.046   \n",
       "5          -232.0      4.486           0.054          -0.229     0.972   \n",
       "\n",
       "   koi_srad_err1  koi_srad_err2         ra        dec  koi_kepmag  \n",
       "0          0.105         -0.061  291.93423  48.141651      15.347  \n",
       "1          0.105         -0.061  291.93423  48.141651      15.347  \n",
       "3          0.201         -0.067  285.53461  48.285210      15.597  \n",
       "4          0.334         -0.133  288.75488  48.226200      15.509  \n",
       "5          0.315         -0.105  296.28613  48.224670      15.714  \n",
       "\n",
       "[5 rows x 49 columns]"
      ]
     },
     "execution_count": 8,
     "metadata": {},
     "output_type": "execute_result"
    }
   ],
   "source": [
    "subset_df = df[df[\"koi_disposition\"] != \"CANDIDATE\"]\n",
    "print(subset_df.shape)\n",
    "\n",
    "subset_df.head()"
   ]
  },
  {
   "cell_type": "code",
   "execution_count": 9,
   "id": "1d780d5c",
   "metadata": {},
   "outputs": [
    {
     "data": {
      "text/plain": [
       "<AxesSubplot:>"
      ]
     },
     "execution_count": 9,
     "metadata": {},
     "output_type": "execute_result"
    },
    {
     "data": {
      "image/png": "[encoded data removed]",
      "text/plain": [
       "<Figure size 1800x720 with 2 Axes>"
      ]
     },
     "metadata": {},
     "output_type": "display_data"
    }
   ],
   "source": [
    "msno.matrix(subset_df)\n",
    "# white indicates missing data"
   ]
  },
  {
   "cell_type": "markdown",
   "id": "a13c5beb",
   "metadata": {},
   "source": [
    "### Handling missing Data"
   ]
  },
  {
   "cell_type": "code",
   "execution_count": 10,
   "id": "96753f28",
   "metadata": {},
   "outputs": [],
   "source": [
    "# remove columns with more than 40% missing data\n",
    "def remove_missing(f):\n",
    "    count = len(df[df[f].isnull()])\n",
    "    if count/len(df) > 0.4:\n",
    "        return 1\n",
    "    else:\n",
    "        return 0\n",
    "\n",
    "missing_values = [x for x in subset_df.columns if remove_missing(x)]\n",
    "subset_df = subset_df.drop(missing_values, axis=1)\n",
    "\n",
    "subset_df = subset_df.dropna()"
   ]
  },
  {
   "cell_type": "code",
   "execution_count": 11,
   "id": "fdcbf5af",
   "metadata": {},
   "outputs": [
    {
     "data": {
      "text/plain": [
       "<AxesSubplot:>"
      ]
     },
     "execution_count": 11,
     "metadata": {},
     "output_type": "execute_result"
    },
    {
     "data": {
      "image/png": "[encoded data removed]",
      "text/plain": [
       "<Figure size 1800x720 with 2 Axes>"
      ]
     },
     "metadata": {},
     "output_type": "display_data"
    }
   ],
   "source": [
    "msno.matrix(subset_df)"
   ]
  },
  {
   "cell_type": "markdown",
   "id": "d9ac2397",
   "metadata": {},
   "source": [
    "### Obtaining X and y\n",
    "     \n",
    "     We can encode the categorical labels to 1 and 0 for easier comparison\n",
    "\n",
    "    CONFIRMED - 1\n",
    "    FALSE POSITIVE - 0\n",
    "\n"
   ]
  },
  {
   "cell_type": "code",
   "execution_count": 12,
   "id": "347a9032",
   "metadata": {},
   "outputs": [],
   "source": [
    "X = subset_df[TO_USE].values\n",
    "y = subset_df[\"koi_disposition\"].apply(lambda x: x=='CONFIRMED').astype(int).values"
   ]
  },
  {
   "cell_type": "code",
   "execution_count": 13,
   "id": "4d6598ff",
   "metadata": {},
   "outputs": [
    {
     "data": {
      "text/plain": [
       "FALSE POSITIVE    3735\n",
       "CONFIRMED         2335\n",
       "Name: koi_disposition, dtype: int64"
      ]
     },
     "execution_count": 13,
     "metadata": {},
     "output_type": "execute_result"
    }
   ],
   "source": [
    "subset_df[\"koi_disposition\"].value_counts()"
   ]
  },
  {
   "cell_type": "markdown",
   "id": "96f3e0b6",
   "metadata": {},
   "source": [
    "### Data Visualization"
   ]
  },
  {
   "cell_type": "code",
   "execution_count": 14,
   "id": "6f23fe4f",
   "metadata": {},
   "outputs": [],
   "source": [
    "def getVisualisationPCA(X, y):\n",
    "    x = StandardScaler().fit_transform(X)\n",
    "    pca = PCA(n_components=2)\n",
    "    principal_components = pca.fit_transform(x)\n",
    "    \n",
    "    pca_df = pd.DataFrame(\n",
    "        data = principal_components,\n",
    "        columns = ['principal component 1', 'principal component 2']\n",
    "    )\n",
    "    \n",
    "    pca_df[\"TARGET\"] = y\n",
    "    labels = np.unique(y)\n",
    "    labels = [\"CONFIRMED\" if i ==1 else \"FALSE POSITIVE\" for i in labels]\n",
    "    pca_df[\"TARGET\"] = [\"CONFIRMED\" if i ==1 else \"FALSE POSITIVE\" for i in pca_df[\"TARGET\"].values]\n",
    "    plt.grid()\n",
    "    colors = cm.rainbow(np.linspace(0, 1, len(labels)))\n",
    "    for label, color in zip(labels, colors):\n",
    "        indicesToKeep = pca_df['TARGET'] == label\n",
    "        plt.scatter(\n",
    "            pca_df.loc[indicesToKeep, 'principal component 1'],\n",
    "            pca_df.loc[indicesToKeep, 'principal component 2'],\n",
    "            c = color,\n",
    "            label=label\n",
    "        )\n",
    "        \n",
    "    plt.legend()\n",
    "    plt.grid()\n",
    "    plt.savefig(\"pca.png\", dpi=600)\n",
    "    \n",
    "def getVarianceContribution(X, y):\n",
    "    cols = X.shape[1]\n",
    "    x = StandardScaler().fit_transform(X)\n",
    "    pca = PCA().fit(x)\n",
    "    variance = pca.explained_variance_ratio_\n",
    "    s = np.sum(variance)\n",
    "    p = variance/s\n",
    "    plt.grid()\n",
    "    plt.bar(list(range(1, cols+1)), p)\n",
    "    plt.xlabel('number of components')\n",
    "    plt.ylabel('cumulative explained variance')\n",
    "    plt.savefig(\"variance.png\", dpi=600)\n",
    "    plt.show()\n",
    "    \n",
    "    \n",
    "def getFeatureCorrelation(X, y):\n",
    "    visualizer = FeatureCorrelation(labels=TO_USE)\n",
    "    visualizer.fit(X, y)\n",
    "    #visualizer.show(\"correlation.png\", dpi=600)\n",
    "    \n",
    "    \n",
    "def getPearsonRanking(X):\n",
    "    #visualizer = rank2d(X, features=TO_USE)\n",
    "    visualizer = Rank2D(algorithm='pearson', features=TO_USE)\n",
    "    visualizer.fit(X, y)           \n",
    "    visualizer.transform(X)        \n",
    "    #visualizer.show(outpath=\"pearson_ranking.png\", dpi=600)\n",
    "    \n",
    "\n",
    "def getRadialViz(X, y):\n",
    "    visualizer = RadViz(classes=[0, 1], features = TO_USE)\n",
    "    visualizer.fit(X, y)           \n",
    "    visualizer.transform(X)        \n",
    "    #visualizer.show(\"radial.png\", dpi=600)"
   ]
  },
  {
   "cell_type": "code",
   "execution_count": 15,
   "id": "7a2e8f80",
   "metadata": {},
   "outputs": [
    {
     "data": {
      "image/png": "[encoded data removed]",
      "text/plain": [
       "<Figure size 576x396 with 2 Axes>"
      ]
     },
     "metadata": {},
     "output_type": "display_data"
    }
   ],
   "source": [
    "getPearsonRanking(X)"
   ]
  },
  {
   "cell_type": "code",
   "execution_count": 16,
   "id": "d1cde4b8",
   "metadata": {},
   "outputs": [
    {
     "name": "stderr",
     "output_type": "stream",
     "text": [
      "*c* argument looks like a single numeric RGB or RGBA sequence, which should be avoided as value-mapping will have precedence in case its length matches with *x* & *y*.  Please use the *color* keyword-argument or provide a 2-D array with a single row if you intend to specify the same RGB or RGBA value for all points.\n",
      "*c* argument looks like a single numeric RGB or RGBA sequence, which should be avoided as value-mapping will have precedence in case its length matches with *x* & *y*.  Please use the *color* keyword-argument or provide a 2-D array with a single row if you intend to specify the same RGB or RGBA value for all points.\n"
     ]
    },
    {
     "data": {
      "image/png": "[encoded data removed]",
      "text/plain": [
       "<Figure size 576x396 with 1 Axes>"
      ]
     },
     "metadata": {},
     "output_type": "display_data"
    }
   ],
   "source": [
    "getVisualisationPCA(X, y)"
   ]
  },
  {
   "cell_type": "code",
   "execution_count": 17,
   "id": "0804bfe9",
   "metadata": {},
   "outputs": [
    {
     "data": {
      "image/png": "[encoded data removed]",
      "text/plain": [
       "<Figure size 576x396 with 1 Axes>"
      ]
     },
     "metadata": {},
     "output_type": "display_data"
    }
   ],
   "source": [
    "getVarianceContribution(X, y)"
   ]
  },
  {
   "cell_type": "code",
   "execution_count": 18,
   "id": "235824f1",
   "metadata": {},
   "outputs": [
    {
     "data": {
      "image/png": "[encoded data removed]",
      "text/plain": [
       "<Figure size 576x396 with 1 Axes>"
      ]
     },
     "metadata": {},
     "output_type": "display_data"
    }
   ],
   "source": [
    "getFeatureCorrelation(X, y)"
   ]
  },
  {
   "cell_type": "markdown",
   "id": "cc4f8bb4",
   "metadata": {},
   "source": [
    "    * We can see that our columns are not interdependent and we can use all our columns\n",
    "    \n",
    "    * We observe that the two classes are not linearly separable, hence a simple Logistic Regression classifier will\n",
    "    not do well.\n",
    "    \n",
    "    * Most important, we see there is a class imbalance present, hence we cannot go on accuracy scores and will need to compare scores for prediction across both classes - F1 scores and balanced accuracy scores\n",
    "\n",
    "We need to hence using different techniques of non-linear classification, which can handle the non-linearity issue as well as class imbalance. We can employ Bagging or Boosting Techniques such as\n",
    "\n",
    "    * SVM\n",
    "    * Random Forests\n",
    "    * AdaBoost\n",
    "\n"
   ]
  },
  {
   "cell_type": "markdown",
   "id": "8116d561",
   "metadata": {},
   "source": [
    "### Splitting into Train and Test sets"
   ]
  },
  {
   "cell_type": "code",
   "execution_count": 19,
   "id": "1c11b2cb",
   "metadata": {},
   "outputs": [],
   "source": [
    "X = StandardScaler().fit_transform(X)"
   ]
  },
  {
   "cell_type": "code",
   "execution_count": 20,
   "id": "cc2c4fb0",
   "metadata": {},
   "outputs": [],
   "source": [
    "X_train, X_test, y_train, y_test = train_test_split(X, y, test_size=0.33, random_state=0, stratify=y)"
   ]
  },
  {
   "cell_type": "code",
   "execution_count": 21,
   "id": "578ebee9",
   "metadata": {},
   "outputs": [
    {
     "data": {
      "text/plain": [
       "((4066, 19), (2004, 19), (4066,), (2004,))"
      ]
     },
     "execution_count": 21,
     "metadata": {},
     "output_type": "execute_result"
    }
   ],
   "source": [
    "X_train.shape, X_test.shape, y_train.shape, y_test.shape"
   ]
  },
  {
   "cell_type": "code",
   "execution_count": 22,
   "id": "1efa71b8",
   "metadata": {},
   "outputs": [],
   "source": [
    "# List to contain model and accuracy values\n",
    "eva_list = []\n",
    "# to contain model names\n",
    "models =[]"
   ]
  },
  {
   "cell_type": "markdown",
   "id": "86964d00",
   "metadata": {},
   "source": [
    "## ML Algorithms"
   ]
  },
  {
   "cell_type": "markdown",
   "id": "4e4ab6c8",
   "metadata": {},
   "source": [
    "### Logistic Regression"
   ]
  },
  {
   "cell_type": "code",
   "execution_count": 23,
   "id": "ca6e92fd",
   "metadata": {},
   "outputs": [
    {
     "name": "stdout",
     "output_type": "stream",
     "text": [
      "Train Accuracy of Logistic Regression: % 97.22\n",
      "Test Accuracy of Logistic Regression: % 97.16\n",
      "Precision : 0.9676237145994875\n",
      "Recall : 0.9729977499439852\n",
      "F1-score : 0.9701368375342838\n"
     ]
    }
   ],
   "source": [
    "lr = LogisticRegression()\n",
    "lr.fit(X_train, y_train)\n",
    "y_pred = lr.predict(X_test)\n",
    "\n",
    "lr_acc = round(lr.score(X_train, y_train) * 100, 2)\n",
    "lr_acc_test = round(accuracy_score(y_test, y_pred) * 100, 2)\n",
    "print(f'Train Accuracy of Logistic Regression: % {lr_acc}')\n",
    "print(f'Test Accuracy of Logistic Regression: % {lr_acc_test}')\n",
    "\n",
    "# Get precision, recall, and f1\n",
    "precision, recall, f1, support = score(y_test, y_pred, average = 'macro')\n",
    "print(f'Precision : {precision}')\n",
    "print(f'Recall : {recall}')\n",
    "print(f'F1-score : {f1}')"
   ]
  },
  {
   "cell_type": "code",
   "execution_count": 24,
   "id": "c72d9b8e",
   "metadata": {},
   "outputs": [],
   "source": [
    "# Add performance parameters to list\n",
    "eva_list.append(dict([\n",
    "    ('Model', 'Logistic Regression'),\n",
    "    ('Train Accuracy', round(lr_acc, 2)),\n",
    "    ('Test Accuracy', round(lr_acc_test, 2)),\n",
    "    ('Precision', round(precision, 2)),\n",
    "    ('Recall', round(recall, 2)),\n",
    "    ('F1', round(f1, 2))\n",
    "     ]))"
   ]
  },
  {
   "cell_type": "markdown",
   "id": "eef9249a",
   "metadata": {},
   "source": [
    "### KNN"
   ]
  },
  {
   "cell_type": "code",
   "execution_count": 25,
   "id": "564b8e50",
   "metadata": {},
   "outputs": [
    {
     "name": "stdout",
     "output_type": "stream",
     "text": [
      "Train Accuracy of KNN: % 97.39\n",
      "Test Accuracy of KNN: % 97.01\n",
      "Precision : 0.9661407369258861\n",
      "Recall : 0.9712952180787109\n",
      "F1-score : 0.9685578995923824\n"
     ]
    }
   ],
   "source": [
    "knn = KNeighborsClassifier(n_neighbors=5)\n",
    "knn.fit(X_train, y_train)\n",
    "y_pred = knn.predict(X_test)\n",
    "\n",
    "knn_acc = round(knn.score(X_train, y_train) * 100, 2)\n",
    "knn_acc_test = round(accuracy_score(y_test, y_pred) * 100, 2)\n",
    "print(f'Train Accuracy of KNN: % {knn_acc}')\n",
    "print(f'Test Accuracy of KNN: % {knn_acc_test}')\n",
    "\n",
    "# Get precision, recall, and f1\n",
    "precision, recall, f1, support = score(y_test, y_pred, average = 'macro')\n",
    "print(f'Precision : {precision}')\n",
    "print(f'Recall : {recall}')\n",
    "print(f'F1-score : {f1}')"
   ]
  },
  {
   "cell_type": "code",
   "execution_count": 26,
   "id": "d17ef38f",
   "metadata": {},
   "outputs": [],
   "source": [
    "# Add performance parameters to list\n",
    "eva_list.append(dict([\n",
    "    ('Model', 'KNN'),\n",
    "    ('Train Accuracy', round(knn_acc, 2)),\n",
    "    ('Test Accuracy', round(knn_acc_test, 2)),\n",
    "    ('Precision', round(precision, 2)),\n",
    "    ('Recall', round(recall, 2)),\n",
    "    ('F1', round(f1, 2))\n",
    "     ]))"
   ]
  },
  {
   "cell_type": "markdown",
   "id": "adbcfab3",
   "metadata": {},
   "source": [
    "### Naive Bayes"
   ]
  },
  {
   "cell_type": "code",
   "execution_count": 27,
   "id": "23f463f2",
   "metadata": {},
   "outputs": [
    {
     "name": "stdout",
     "output_type": "stream",
     "text": [
      "Train Accuracy Score of GaussianNB: % 95.72\n",
      "Test Accuracy Score of GaussianNB: % 96.21\n",
      "Precision : 0.9558486468271865\n",
      "Recall    : 0.9667509254262641\n",
      "F1-score   : 0.9604526404894085\n"
     ]
    }
   ],
   "source": [
    "nbg = GaussianNB()\n",
    "nbg.fit(X_train, y_train)\n",
    "y_pred = nbg.predict(X_test)\n",
    "\n",
    "nbg_acc=round(nbg.score(X_train, y_train) * 100, 2)\n",
    "nbg_acc_test=round(accuracy_score(y_test, y_pred) * 100, 2)\n",
    "\n",
    "print(f'Train Accuracy Score of GaussianNB: % {nbg_acc}')\n",
    "print(f'Test Accuracy Score of GaussianNB: % {nbg_acc_test}')\n",
    "\n",
    "# Get precision, recall, f1 scores\n",
    "precision, recall, f1, support = score(y_test, y_pred, average='macro')\n",
    "print(f'Precision : {precision}')\n",
    "print(f'Recall    : {recall}')\n",
    "print(f'F1-score   : {f1}')"
   ]
  },
  {
   "cell_type": "code",
   "execution_count": 28,
   "id": "acc37f4d",
   "metadata": {},
   "outputs": [],
   "source": [
    "# Add performance parameters to list\n",
    "eva_list.append(dict([\n",
    "    ('Model', 'GaussianNB'),\n",
    "    ('Train Accuracy', round(nbg_acc, 2)),\n",
    "    ('Test Accuracy', round(nbg_acc_test, 2)),\n",
    "    ('Precision', round(precision, 2)),\n",
    "    ('Recall', round(recall, 2)),\n",
    "    ('F1', round(f1, 2))\n",
    "     ]))"
   ]
  },
  {
   "cell_type": "markdown",
   "id": "fb8ac3bb",
   "metadata": {},
   "source": [
    "### Decision Trees"
   ]
  },
  {
   "cell_type": "code",
   "execution_count": 29,
   "id": "c429255a",
   "metadata": {},
   "outputs": [
    {
     "name": "stdout",
     "output_type": "stream",
     "text": [
      "Train Accuracy Score of Decision Trees: % 100.0\n",
      "Test Accuracy Score of Decision Trees: % 99.45\n",
      "Precision : 0.9948107576863213\n",
      "Recall    : 0.9935953875429577\n",
      "F1-score   : 0.9941957810142217\n"
     ]
    }
   ],
   "source": [
    "dt = DecisionTreeClassifier()\n",
    "dt.fit(X_train, y_train)\n",
    "y_pred = dt.predict(X_test)\n",
    "\n",
    "dt_acc = round(dt.score(X_train, y_train) * 100, 2)\n",
    "dt_acc_test = round(accuracy_score(y_test, y_pred) * 100, 2)\n",
    "print(f'Train Accuracy Score of Decision Trees: % {dt_acc}')\n",
    "print(f'Test Accuracy Score of Decision Trees: % {dt_acc_test}')\n",
    "\n",
    "# Get precision, recall, f1 scores\n",
    "precision, recall, f1, support = score(y_test, y_pred, average='macro')\n",
    "print(f'Precision : {precision}')\n",
    "print(f'Recall    : {recall}')\n",
    "print(f'F1-score   : {f1}')"
   ]
  },
  {
   "cell_type": "code",
   "execution_count": 30,
   "id": "c9e178e1",
   "metadata": {},
   "outputs": [],
   "source": [
    "# Add performance parameters to list\n",
    "eva_list.append(dict([\n",
    "    ('Model', 'Decision Trees'),\n",
    "    ('Train Accuracy', round(dt_acc, 2)),\n",
    "    ('Test Accuracy', round(dt_acc_test, 2)),\n",
    "    ('Precision', round(precision, 2)),\n",
    "    ('Recall', round(recall, 2)),\n",
    "    ('F1', round(f1, 2))\n",
    "     ]))"
   ]
  },
  {
   "cell_type": "code",
   "execution_count": 31,
   "id": "81c733f5",
   "metadata": {},
   "outputs": [
    {
     "data": {
      "text/html": [
       "<div>\n",
       "<style scoped>\n",
       "    .dataframe tbody tr th:only-of-type {\n",
       "        vertical-align: middle;\n",
       "    }\n",
       "\n",
       "    .dataframe tbody tr th {\n",
       "        vertical-align: top;\n",
       "    }\n",
       "\n",
       "    .dataframe thead th {\n",
       "        text-align: right;\n",
       "    }\n",
       "</style>\n",
       "<table border=\"1\" class=\"dataframe\">\n",
       "  <thead>\n",
       "    <tr style=\"text-align: right;\">\n",
       "      <th></th>\n",
       "      <th>importance</th>\n",
       "    </tr>\n",
       "    <tr>\n",
       "      <th>feature</th>\n",
       "      <th></th>\n",
       "    </tr>\n",
       "  </thead>\n",
       "  <tbody>\n",
       "    <tr>\n",
       "      <th>koi_fpflag_co</th>\n",
       "      <td>0.339602</td>\n",
       "    </tr>\n",
       "    <tr>\n",
       "      <th>koi_fpflag_ss</th>\n",
       "      <td>0.304632</td>\n",
       "    </tr>\n",
       "    <tr>\n",
       "      <th>koi_fpflag_nt</th>\n",
       "      <td>0.278854</td>\n",
       "    </tr>\n",
       "    <tr>\n",
       "      <th>koi_fpflag_ec</th>\n",
       "      <td>0.067611</td>\n",
       "    </tr>\n",
       "    <tr>\n",
       "      <th>koi_model_snr</th>\n",
       "      <td>0.002074</td>\n",
       "    </tr>\n",
       "    <tr>\n",
       "      <th>koi_duration</th>\n",
       "      <td>0.002061</td>\n",
       "    </tr>\n",
       "    <tr>\n",
       "      <th>koi_time0bk</th>\n",
       "      <td>0.002057</td>\n",
       "    </tr>\n",
       "    <tr>\n",
       "      <th>koi_impact</th>\n",
       "      <td>0.001152</td>\n",
       "    </tr>\n",
       "    <tr>\n",
       "      <th>koi_kepmag</th>\n",
       "      <td>0.000693</td>\n",
       "    </tr>\n",
       "    <tr>\n",
       "      <th>koi_period</th>\n",
       "      <td>0.000693</td>\n",
       "    </tr>\n",
       "  </tbody>\n",
       "</table>\n",
       "</div>"
      ],
      "text/plain": [
       "               importance\n",
       "feature                  \n",
       "koi_fpflag_co    0.339602\n",
       "koi_fpflag_ss    0.304632\n",
       "koi_fpflag_nt    0.278854\n",
       "koi_fpflag_ec    0.067611\n",
       "koi_model_snr    0.002074\n",
       "koi_duration     0.002061\n",
       "koi_time0bk      0.002057\n",
       "koi_impact       0.001152\n",
       "koi_kepmag       0.000693\n",
       "koi_period       0.000693"
      ]
     },
     "execution_count": 31,
     "metadata": {},
     "output_type": "execute_result"
    }
   ],
   "source": [
    "# View feature importances\n",
    "importances_dt = pd.DataFrame({'feature': subset_df[TO_USE].columns,\n",
    "                             'importance': dt.feature_importances_})\n",
    "importances_dt = importances_dt.sort_values('importance',ascending=False).set_index('feature')\n",
    "importances_dt.head(10)"
   ]
  },
  {
   "cell_type": "markdown",
   "id": "e3418825",
   "metadata": {},
   "source": [
    "### Random Forest"
   ]
  },
  {
   "cell_type": "code",
   "execution_count": 32,
   "id": "b6cfd18c",
   "metadata": {},
   "outputs": [
    {
     "name": "stdout",
     "output_type": "stream",
     "text": [
      "Train Accuracy Score of Random Forest: % 100.0\n",
      "Test Accuracy Score of Random Forest: % 99.45\n",
      "Precision : 0.9955787781350482\n",
      "Recall    : 0.9928664072632944\n",
      "F1-score   : 0.9941871488102034\n"
     ]
    }
   ],
   "source": [
    "num_estimator = 100\n",
    "seed = 7\n",
    "rf = RandomForestClassifier(n_estimators=num_estimator)\n",
    "rf.fit(X_train, y_train)\n",
    "y_pred = rf.predict(X_test)\n",
    "\n",
    "rf_acc = round(rf.score(X_train, y_train) * 100, 2)\n",
    "rf_acc_test = round(accuracy_score(y_test, y_pred) * 100, 2)\n",
    "print(f'Train Accuracy Score of Random Forest: % {rf_acc}')\n",
    "print(f'Test Accuracy Score of Random Forest: % {rf_acc_test}')\n",
    "\n",
    "# Get precision, recall, f1 scores\n",
    "precision, recall, f1, support = score(y_test, y_pred, average='macro')\n",
    "print(f'Precision : {precision}')\n",
    "print(f'Recall    : {recall}')\n",
    "print(f'F1-score   : {f1}')"
   ]
  },
  {
   "cell_type": "code",
   "execution_count": 33,
   "id": "6e622244",
   "metadata": {},
   "outputs": [],
   "source": [
    "# Add performance parameters to list\n",
    "eva_list.append(dict([\n",
    "    ('Model', 'Random Forest'),\n",
    "    ('Train Accuracy', round(rf_acc, 2)),\n",
    "    ('Test Accuracy', round(rf_acc_test, 2)),\n",
    "    ('Precision', round(precision, 2)),\n",
    "    ('Recall', round(recall, 2)),\n",
    "    ('F1', round(f1, 2))\n",
    "     ]))"
   ]
  },
  {
   "cell_type": "code",
   "execution_count": 34,
   "id": "3ff89ee1",
   "metadata": {},
   "outputs": [
    {
     "data": {
      "text/html": [
       "<div>\n",
       "<style scoped>\n",
       "    .dataframe tbody tr th:only-of-type {\n",
       "        vertical-align: middle;\n",
       "    }\n",
       "\n",
       "    .dataframe tbody tr th {\n",
       "        vertical-align: top;\n",
       "    }\n",
       "\n",
       "    .dataframe thead th {\n",
       "        text-align: right;\n",
       "    }\n",
       "</style>\n",
       "<table border=\"1\" class=\"dataframe\">\n",
       "  <thead>\n",
       "    <tr style=\"text-align: right;\">\n",
       "      <th></th>\n",
       "      <th>importance</th>\n",
       "    </tr>\n",
       "    <tr>\n",
       "      <th>feature</th>\n",
       "      <th></th>\n",
       "    </tr>\n",
       "  </thead>\n",
       "  <tbody>\n",
       "    <tr>\n",
       "      <th>koi_fpflag_co</th>\n",
       "      <td>0.190939</td>\n",
       "    </tr>\n",
       "    <tr>\n",
       "      <th>koi_fpflag_ss</th>\n",
       "      <td>0.149626</td>\n",
       "    </tr>\n",
       "    <tr>\n",
       "      <th>koi_prad</th>\n",
       "      <td>0.133453</td>\n",
       "    </tr>\n",
       "    <tr>\n",
       "      <th>koi_fpflag_nt</th>\n",
       "      <td>0.097987</td>\n",
       "    </tr>\n",
       "    <tr>\n",
       "      <th>koi_fpflag_ec</th>\n",
       "      <td>0.086915</td>\n",
       "    </tr>\n",
       "    <tr>\n",
       "      <th>koi_model_snr</th>\n",
       "      <td>0.054886</td>\n",
       "    </tr>\n",
       "    <tr>\n",
       "      <th>koi_depth</th>\n",
       "      <td>0.054174</td>\n",
       "    </tr>\n",
       "    <tr>\n",
       "      <th>koi_period</th>\n",
       "      <td>0.049847</td>\n",
       "    </tr>\n",
       "    <tr>\n",
       "      <th>koi_teq</th>\n",
       "      <td>0.037317</td>\n",
       "    </tr>\n",
       "    <tr>\n",
       "      <th>koi_insol</th>\n",
       "      <td>0.036308</td>\n",
       "    </tr>\n",
       "  </tbody>\n",
       "</table>\n",
       "</div>"
      ],
      "text/plain": [
       "               importance\n",
       "feature                  \n",
       "koi_fpflag_co    0.190939\n",
       "koi_fpflag_ss    0.149626\n",
       "koi_prad         0.133453\n",
       "koi_fpflag_nt    0.097987\n",
       "koi_fpflag_ec    0.086915\n",
       "koi_model_snr    0.054886\n",
       "koi_depth        0.054174\n",
       "koi_period       0.049847\n",
       "koi_teq          0.037317\n",
       "koi_insol        0.036308"
      ]
     },
     "execution_count": 34,
     "metadata": {},
     "output_type": "execute_result"
    }
   ],
   "source": [
    "# View feature importances\n",
    "importances_rf = pd.DataFrame({'feature': subset_df[TO_USE].columns,\n",
    "                             'importance': rf.feature_importances_})\n",
    "importances_rf = importances_rf.sort_values('importance',ascending=False).set_index('feature')\n",
    "importances_rf.head(10)"
   ]
  },
  {
   "cell_type": "markdown",
   "id": "27a7739c",
   "metadata": {},
   "source": [
    "### Bagging Classifier"
   ]
  },
  {
   "cell_type": "code",
   "execution_count": 35,
   "id": "ee5df66c",
   "metadata": {},
   "outputs": [
    {
     "name": "stdout",
     "output_type": "stream",
     "text": [
      "Train Accuracy Score of Bagged Classifier: % 99.85\n",
      "Test Accuracy Score of Bagged Classifier: % 99.55\n",
      "Precision : 0.9963768115942029\n",
      "Recall    : 0.9941634241245136\n",
      "F1-score   : 0.9952463974381782\n"
     ]
    }
   ],
   "source": [
    "bag = BaggingClassifier(base_estimator=rf, n_estimators=num_estimator,\n",
    "    bootstrap=True, n_jobs=-1, random_state=seed)\n",
    "\n",
    "bag.fit(X_train, y_train)\n",
    "y_pred = bag.predict(X_test)\n",
    "\n",
    "bag_acc = round(bag.score(X_train, y_train) * 100, 2)\n",
    "bag_acc_test = round(accuracy_score(y_test, y_pred) * 100, 2)\n",
    "\n",
    "print(f'Train Accuracy Score of Bagged Classifier: % {bag_acc}')\n",
    "print(f'Test Accuracy Score of Bagged Classifier: % {bag_acc_test}')\n",
    "\n",
    "# Get precision, recall, f1 scores\n",
    "precision, recall, f1, support = score(y_test, y_pred, average='macro')\n",
    "print(f'Precision : {precision}')\n",
    "print(f'Recall    : {recall}')\n",
    "print(f'F1-score   : {f1}')"
   ]
  },
  {
   "cell_type": "code",
   "execution_count": 36,
   "id": "3419e72e",
   "metadata": {},
   "outputs": [],
   "source": [
    "# Add performance parameters to list\n",
    "eva_list.append(dict([\n",
    "    ('Model', 'Bagging Classifier'),\n",
    "    ('Train Accuracy', round(bag_acc, 2)),\n",
    "    ('Test Accuracy', round(bag_acc_test, 2)),\n",
    "    ('Precision', round(precision, 2)),\n",
    "    ('Recall', round(recall, 2)),\n",
    "    ('F1', round(f1, 2))\n",
    "     ]))"
   ]
  },
  {
   "cell_type": "markdown",
   "id": "1d4925f2",
   "metadata": {},
   "source": [
    "### Results"
   ]
  },
  {
   "cell_type": "code",
   "execution_count": 37,
   "id": "59d5218d",
   "metadata": {},
   "outputs": [
    {
     "data": {
      "text/html": [
       "<div>\n",
       "<style scoped>\n",
       "    .dataframe tbody tr th:only-of-type {\n",
       "        vertical-align: middle;\n",
       "    }\n",
       "\n",
       "    .dataframe tbody tr th {\n",
       "        vertical-align: top;\n",
       "    }\n",
       "\n",
       "    .dataframe thead th {\n",
       "        text-align: right;\n",
       "    }\n",
       "</style>\n",
       "<table border=\"1\" class=\"dataframe\">\n",
       "  <thead>\n",
       "    <tr style=\"text-align: right;\">\n",
       "      <th></th>\n",
       "      <th>Train Accuracy</th>\n",
       "      <th>Test Accuracy</th>\n",
       "      <th>Precision</th>\n",
       "      <th>Recall</th>\n",
       "      <th>F1</th>\n",
       "    </tr>\n",
       "    <tr>\n",
       "      <th>Model</th>\n",
       "      <th></th>\n",
       "      <th></th>\n",
       "      <th></th>\n",
       "      <th></th>\n",
       "      <th></th>\n",
       "    </tr>\n",
       "  </thead>\n",
       "  <tbody>\n",
       "    <tr>\n",
       "      <th>Bagging Classifier</th>\n",
       "      <td>99.85</td>\n",
       "      <td>99.55</td>\n",
       "      <td>1.00</td>\n",
       "      <td>0.99</td>\n",
       "      <td>1.00</td>\n",
       "    </tr>\n",
       "    <tr>\n",
       "      <th>Decision Trees</th>\n",
       "      <td>100.00</td>\n",
       "      <td>99.45</td>\n",
       "      <td>0.99</td>\n",
       "      <td>0.99</td>\n",
       "      <td>0.99</td>\n",
       "    </tr>\n",
       "    <tr>\n",
       "      <th>Random Forest</th>\n",
       "      <td>100.00</td>\n",
       "      <td>99.45</td>\n",
       "      <td>1.00</td>\n",
       "      <td>0.99</td>\n",
       "      <td>0.99</td>\n",
       "    </tr>\n",
       "    <tr>\n",
       "      <th>Logistic Regression</th>\n",
       "      <td>97.22</td>\n",
       "      <td>97.16</td>\n",
       "      <td>0.97</td>\n",
       "      <td>0.97</td>\n",
       "      <td>0.97</td>\n",
       "    </tr>\n",
       "    <tr>\n",
       "      <th>KNN</th>\n",
       "      <td>97.39</td>\n",
       "      <td>97.01</td>\n",
       "      <td>0.97</td>\n",
       "      <td>0.97</td>\n",
       "      <td>0.97</td>\n",
       "    </tr>\n",
       "    <tr>\n",
       "      <th>GaussianNB</th>\n",
       "      <td>95.72</td>\n",
       "      <td>96.21</td>\n",
       "      <td>0.96</td>\n",
       "      <td>0.97</td>\n",
       "      <td>0.96</td>\n",
       "    </tr>\n",
       "  </tbody>\n",
       "</table>\n",
       "</div>"
      ],
      "text/plain": [
       "                     Train Accuracy  Test Accuracy  Precision  Recall    F1\n",
       "Model                                                                      \n",
       "Bagging Classifier            99.85          99.55       1.00    0.99  1.00\n",
       "Decision Trees               100.00          99.45       0.99    0.99  0.99\n",
       "Random Forest                100.00          99.45       1.00    0.99  0.99\n",
       "Logistic Regression           97.22          97.16       0.97    0.97  0.97\n",
       "KNN                           97.39          97.01       0.97    0.97  0.97\n",
       "GaussianNB                    95.72          96.21       0.96    0.97  0.96"
      ]
     },
     "execution_count": 37,
     "metadata": {},
     "output_type": "execute_result"
    }
   ],
   "source": [
    "results = pd.DataFrame(data=eva_list)\n",
    "results = results[['Model', 'Train Accuracy', 'Test Accuracy', 'Precision', 'Recall', 'F1']]\n",
    "results = results.sort_values(by='Test Accuracy', ascending=False)\n",
    "results = results.set_index('Model')\n",
    "results"
   ]
  },
  {
   "cell_type": "markdown",
   "id": "70e78118",
   "metadata": {},
   "source": [
    "### Confusion Matrix "
   ]
  },
  {
   "cell_type": "code",
   "execution_count": 38,
   "id": "c2a71214",
   "metadata": {},
   "outputs": [
    {
     "data": {
      "image/png": "[encoded data removed]",
      "text/plain": [
       "<Figure size 1000x687.5 with 2 Axes>"
      ]
     },
     "metadata": {},
     "output_type": "display_data"
    }
   ],
   "source": [
    "conf_mtrx = confusion_matrix(y_test, y_pred)\n",
    "plt.figure(dpi=125)\n",
    "sns.heatmap(conf_mtrx, cmap=plt.cm.Reds, annot=True, square=True,fmt='d',\n",
    "           xticklabels=['Non-Exo', 'Exo'],\n",
    "           yticklabels=['Non-Exo', 'Exo'])\n",
    "\n",
    "plt.xlabel('Predicted objects')\n",
    "plt.ylabel('Actual objects');"
   ]
  },
  {
   "cell_type": "code",
   "execution_count": 39,
   "id": "213c7b98",
   "metadata": {},
   "outputs": [],
   "source": [
    "# saving model\n",
    "pickle.dump(rf, open(\"rf_model.pkl\",\"wb\"))"
   ]
  },
  {
   "cell_type": "markdown",
   "id": "00fd99e1",
   "metadata": {},
   "source": [
    "***PRAKHAR_VARSHNEY***"
   ]
  }
 ],
 "metadata": {
  "kernelspec": {
   "display_name": "Python 3",
   "language": "python",
   "name": "python3"
  },
  "language_info": {
   "codemirror_mode": {
    "name": "ipython",
    "version": 3
   },
   "file_extension": ".py",
   "mimetype": "text/x-python",
   "name": "python",
   "nbconvert_exporter": "python",
   "pygments_lexer": "ipython3",
   "version": "3.8.8"
  }
 },
 "nbformat": 4,
 "nbformat_minor": 5
}
