{
 "cells": [
  {
   "cell_type": "code",
   "execution_count": 62,
   "id": "4168c3dd",
   "metadata": {},
   "outputs": [],
   "source": [
    "# imports\n",
    "import os\n",
    "import pandas as pd\n",
    "pd.options.mode.chained_assignment = None\n",
    "import numpy as np\n",
    "import matplotlib.pyplot as plt\n",
    "import seaborn as sns\n",
    "from sklearn.model_selection import train_test_split\n",
    "\n",
    "import missingno as msno\n",
    "import pickle\n",
    "\n",
    "\n",
    "\n",
    "import xgboost as xgb\n",
    "from sklearn.neighbors import KNeighborsClassifier\n",
    "from sklearn.linear_model import LogisticRegression\n",
    "from sklearn.model_selection import GridSearchCV, RandomizedSearchCV\n",
    "from sklearn.svm import SVC, LinearSVC\n",
    "from sklearn.tree import DecisionTreeClassifier\n",
    "from sklearn.naive_bayes import GaussianNB, BernoulliNB\n",
    "from sklearn.ensemble import (RandomForestClassifier, GradientBoostingClassifier, BaggingClassifier, IsolationForest,\n",
    "                              RandomForestRegressor, AdaBoostClassifier, VotingClassifier, ExtraTreesClassifier)\n",
    "from sklearn.linear_model import Perceptron\n",
    "\n",
    "\n",
    "# Performance metrics\n",
    "from sklearn.model_selection import cross_val_score, KFold\n",
    "from sklearn.metrics import accuracy_score, make_scorer, balanced_accuracy_score\n",
    "from sklearn.metrics import precision_recall_fscore_support as score\n",
    "from sklearn.metrics import roc_curve, auc, confusion_matrix, roc_auc_score\n",
    "from sklearn.metrics import precision_score, recall_score, precision_recall_curve,f1_score, fbeta_score\n",
    "\n",
    "import warnings\n",
    "warnings.filterwarnings('ignore')\n"
   ]
  },
  {
   "cell_type": "code",
   "execution_count": 2,
   "id": "73e0d8c0",
   "metadata": {},
   "outputs": [
    {
     "data": {
      "text/html": [
       "<div>\n",
       "<style scoped>\n",
       "    .dataframe tbody tr th:only-of-type {\n",
       "        vertical-align: middle;\n",
       "    }\n",
       "\n",
       "    .dataframe tbody tr th {\n",
       "        vertical-align: top;\n",
       "    }\n",
       "\n",
       "    .dataframe thead th {\n",
       "        text-align: right;\n",
       "    }\n",
       "</style>\n",
       "<table border=\"1\" class=\"dataframe\">\n",
       "  <thead>\n",
       "    <tr style=\"text-align: right;\">\n",
       "      <th></th>\n",
       "      <th>index</th>\n",
       "      <th>planet_name</th>\n",
       "      <th>hostname</th>\n",
       "      <th>default_flag</th>\n",
       "      <th>number_of_stars</th>\n",
       "      <th>number_of_planets</th>\n",
       "      <th>planet_orbital_period</th>\n",
       "      <th>orbit_semimajor_axis</th>\n",
       "      <th>planet_radius</th>\n",
       "      <th>planet_mass</th>\n",
       "      <th>planet_equillirium_temperature</th>\n",
       "      <th>star_spectype</th>\n",
       "      <th>stellar_temperature</th>\n",
       "      <th>stellar_radius</th>\n",
       "      <th>stellar_mass</th>\n",
       "      <th>stellar_age</th>\n",
       "      <th>system_distance</th>\n",
       "    </tr>\n",
       "  </thead>\n",
       "  <tbody>\n",
       "    <tr>\n",
       "      <th>0</th>\n",
       "      <td>0</td>\n",
       "      <td>11 Com b</td>\n",
       "      <td>11 Com</td>\n",
       "      <td>1</td>\n",
       "      <td>2</td>\n",
       "      <td>1</td>\n",
       "      <td>326.03000</td>\n",
       "      <td>1.29</td>\n",
       "      <td>NaN</td>\n",
       "      <td>NaN</td>\n",
       "      <td>NaN</td>\n",
       "      <td>G8 III</td>\n",
       "      <td>4742.0</td>\n",
       "      <td>19.00</td>\n",
       "      <td>2.70</td>\n",
       "      <td>NaN</td>\n",
       "      <td>93.1846</td>\n",
       "    </tr>\n",
       "    <tr>\n",
       "      <th>1</th>\n",
       "      <td>3</td>\n",
       "      <td>11 UMi b</td>\n",
       "      <td>11 UMi</td>\n",
       "      <td>1</td>\n",
       "      <td>1</td>\n",
       "      <td>1</td>\n",
       "      <td>516.21997</td>\n",
       "      <td>1.53</td>\n",
       "      <td>NaN</td>\n",
       "      <td>NaN</td>\n",
       "      <td>NaN</td>\n",
       "      <td>NaN</td>\n",
       "      <td>4213.0</td>\n",
       "      <td>29.79</td>\n",
       "      <td>2.78</td>\n",
       "      <td>NaN</td>\n",
       "      <td>125.3210</td>\n",
       "    </tr>\n",
       "    <tr>\n",
       "      <th>2</th>\n",
       "      <td>6</td>\n",
       "      <td>14 And b</td>\n",
       "      <td>14 And</td>\n",
       "      <td>1</td>\n",
       "      <td>1</td>\n",
       "      <td>1</td>\n",
       "      <td>185.84000</td>\n",
       "      <td>0.83</td>\n",
       "      <td>NaN</td>\n",
       "      <td>NaN</td>\n",
       "      <td>NaN</td>\n",
       "      <td>K0 III</td>\n",
       "      <td>4813.0</td>\n",
       "      <td>11.00</td>\n",
       "      <td>2.20</td>\n",
       "      <td>NaN</td>\n",
       "      <td>75.4392</td>\n",
       "    </tr>\n",
       "    <tr>\n",
       "      <th>3</th>\n",
       "      <td>12</td>\n",
       "      <td>14 Her b</td>\n",
       "      <td>14 Her</td>\n",
       "      <td>1</td>\n",
       "      <td>1</td>\n",
       "      <td>2</td>\n",
       "      <td>1773.40002</td>\n",
       "      <td>2.93</td>\n",
       "      <td>NaN</td>\n",
       "      <td>NaN</td>\n",
       "      <td>NaN</td>\n",
       "      <td>NaN</td>\n",
       "      <td>5338.0</td>\n",
       "      <td>0.93</td>\n",
       "      <td>0.90</td>\n",
       "      <td>NaN</td>\n",
       "      <td>17.9323</td>\n",
       "    </tr>\n",
       "    <tr>\n",
       "      <th>4</th>\n",
       "      <td>15</td>\n",
       "      <td>16 Cyg B b</td>\n",
       "      <td>16 Cyg B</td>\n",
       "      <td>1</td>\n",
       "      <td>3</td>\n",
       "      <td>1</td>\n",
       "      <td>798.50000</td>\n",
       "      <td>1.66</td>\n",
       "      <td>NaN</td>\n",
       "      <td>NaN</td>\n",
       "      <td>NaN</td>\n",
       "      <td>NaN</td>\n",
       "      <td>5750.0</td>\n",
       "      <td>1.13</td>\n",
       "      <td>1.08</td>\n",
       "      <td>NaN</td>\n",
       "      <td>21.1397</td>\n",
       "    </tr>\n",
       "  </tbody>\n",
       "</table>\n",
       "</div>"
      ],
      "text/plain": [
       "   index planet_name  hostname  default_flag  number_of_stars  \\\n",
       "0      0    11 Com b    11 Com             1                2   \n",
       "1      3    11 UMi b    11 UMi             1                1   \n",
       "2      6    14 And b    14 And             1                1   \n",
       "3     12    14 Her b    14 Her             1                1   \n",
       "4     15  16 Cyg B b  16 Cyg B             1                3   \n",
       "\n",
       "   number_of_planets  planet_orbital_period  orbit_semimajor_axis  \\\n",
       "0                  1              326.03000                  1.29   \n",
       "1                  1              516.21997                  1.53   \n",
       "2                  1              185.84000                  0.83   \n",
       "3                  2             1773.40002                  2.93   \n",
       "4                  1              798.50000                  1.66   \n",
       "\n",
       "   planet_radius  planet_mass  planet_equillirium_temperature star_spectype  \\\n",
       "0            NaN          NaN                             NaN        G8 III   \n",
       "1            NaN          NaN                             NaN           NaN   \n",
       "2            NaN          NaN                             NaN        K0 III   \n",
       "3            NaN          NaN                             NaN           NaN   \n",
       "4            NaN          NaN                             NaN           NaN   \n",
       "\n",
       "   stellar_temperature  stellar_radius  stellar_mass  stellar_age  \\\n",
       "0               4742.0           19.00          2.70          NaN   \n",
       "1               4213.0           29.79          2.78          NaN   \n",
       "2               4813.0           11.00          2.20          NaN   \n",
       "3               5338.0            0.93          0.90          NaN   \n",
       "4               5750.0            1.13          1.08          NaN   \n",
       "\n",
       "   system_distance  \n",
       "0          93.1846  \n",
       "1         125.3210  \n",
       "2          75.4392  \n",
       "3          17.9323  \n",
       "4          21.1397  "
      ]
     },
     "execution_count": 2,
     "metadata": {},
     "output_type": "execute_result"
    }
   ],
   "source": [
    "#Get Exo-Planet file and load it into pandas DataFrame\n",
    "file_name = 'data\\\\exoplanet_data'\n",
    "\n",
    "\n",
    "hec_file_name = 'data\\\\phl_exoplanet_catalog'\n",
    "input_dir = os.getcwd()\n",
    "exoplanet_file = os.path.join(input_dir, file_name + '.csv')\n",
    "hec_file = os.path.join(input_dir,hec_file_name + '.csv')\n",
    "\n",
    "\n",
    "#hecfile\n",
    "hec = pd.read_csv(hec_file)\n",
    "\n",
    "#DataFrame\n",
    "df = pd.read_csv (exoplanet_file)\n",
    "df = df[df[\"default_flag\"] == 1]\n",
    "df = df.reset_index()\n",
    "# df=df.dropna()\n",
    "df.head()"
   ]
  },
  {
   "cell_type": "code",
   "execution_count": 3,
   "id": "b524c46f",
   "metadata": {},
   "outputs": [
    {
     "name": "stdout",
     "output_type": "stream",
     "text": [
      "Total exoplanets in the Dataset are 4569\n"
     ]
    }
   ],
   "source": [
    "# Check total dataset\n",
    "print(\"Total exoplanets in the Dataset are\",df.shape[0])\n"
   ]
  },
  {
   "cell_type": "markdown",
   "id": "50184f91",
   "metadata": {},
   "source": [
    "### Classification on the number of host stars"
   ]
  },
  {
   "cell_type": "code",
   "execution_count": 4,
   "id": "e44d7036",
   "metadata": {},
   "outputs": [
    {
     "data": {
      "text/plain": [
       "number_of_stars\n",
       "1    4124\n",
       "2     390\n",
       "3      53\n",
       "4       2\n",
       "dtype: int64"
      ]
     },
     "execution_count": 4,
     "metadata": {},
     "output_type": "execute_result"
    }
   ],
   "source": [
    "# unary_system = df[df[\"number_of_stars\"]== 1]\n",
    "# total_unary_system = unary_system.shape[0]\n",
    "\n",
    "# binary_system\n",
    "\n",
    "stars = df.value_counts('number_of_stars')\n",
    "stars"
   ]
  },
  {
   "cell_type": "code",
   "execution_count": 5,
   "id": "ef98afda",
   "metadata": {},
   "outputs": [
    {
     "data": {
      "text/plain": [
       "number_of_planets\n",
       "1    2600\n",
       "2    1042\n",
       "3     495\n",
       "4     244\n",
       "5     125\n",
       "6      48\n",
       "8       8\n",
       "7       7\n",
       "dtype: int64"
      ]
     },
     "execution_count": 5,
     "metadata": {},
     "output_type": "execute_result"
    }
   ],
   "source": [
    "planets = df.value_counts('number_of_planets')\n",
    "planets"
   ]
  },
  {
   "cell_type": "code",
   "execution_count": 6,
   "id": "fc6dee11",
   "metadata": {},
   "outputs": [
    {
     "data": {
      "text/plain": [
       "star_spectype\n",
       "G0 V        41\n",
       "K2 V        29\n",
       "K0 V        23\n",
       "F8 V        23\n",
       "G5 V        22\n",
       "            ..\n",
       "K1.5 III     1\n",
       "F6 IV-V      1\n",
       "M1 III       1\n",
       "F5 IV        1\n",
       "m3 V         1\n",
       "Length: 180, dtype: int64"
      ]
     },
     "execution_count": 6,
     "metadata": {},
     "output_type": "execute_result"
    }
   ],
   "source": [
    "spec_type = df.value_counts('star_spectype')\n",
    "spec_type"
   ]
  },
  {
   "cell_type": "code",
   "execution_count": 7,
   "id": "ddab3f73",
   "metadata": {},
   "outputs": [
    {
     "data": {
      "text/plain": [
       "<AxesSubplot:>"
      ]
     },
     "execution_count": 7,
     "metadata": {},
     "output_type": "execute_result"
    },
    {
     "data": {
      "image/png": "[encoded data removed]",
      "text/plain": [
       "<Figure size 1800x720 with 2 Axes>"
      ]
     },
     "metadata": {
      "needs_background": "light"
     },
     "output_type": "display_data"
    }
   ],
   "source": [
    "msno.matrix(df)\n",
    "# white indicates missing data"
   ]
  },
  {
   "cell_type": "code",
   "execution_count": 8,
   "id": "300443c0",
   "metadata": {},
   "outputs": [
    {
     "data": {
      "text/html": [
       "<div>\n",
       "<style scoped>\n",
       "    .dataframe tbody tr th:only-of-type {\n",
       "        vertical-align: middle;\n",
       "    }\n",
       "\n",
       "    .dataframe tbody tr th {\n",
       "        vertical-align: top;\n",
       "    }\n",
       "\n",
       "    .dataframe thead th {\n",
       "        text-align: right;\n",
       "    }\n",
       "</style>\n",
       "<table border=\"1\" class=\"dataframe\">\n",
       "  <thead>\n",
       "    <tr style=\"text-align: right;\">\n",
       "      <th></th>\n",
       "      <th>P_NAME</th>\n",
       "      <th>P_STATUS</th>\n",
       "      <th>P_MASS</th>\n",
       "      <th>P_MASS_ERROR_MIN</th>\n",
       "      <th>P_MASS_ERROR_MAX</th>\n",
       "      <th>P_RADIUS</th>\n",
       "      <th>P_RADIUS_ERROR_MIN</th>\n",
       "      <th>P_RADIUS_ERROR_MAX</th>\n",
       "      <th>P_YEAR</th>\n",
       "      <th>P_UPDATED</th>\n",
       "      <th>...</th>\n",
       "      <th>P_HABZONE_CON</th>\n",
       "      <th>P_TYPE_TEMP</th>\n",
       "      <th>P_HABITABLE</th>\n",
       "      <th>P_ESI</th>\n",
       "      <th>S_CONSTELLATION</th>\n",
       "      <th>S_CONSTELLATION_ABR</th>\n",
       "      <th>S_CONSTELLATION_ENG</th>\n",
       "      <th>P_RADIUS_EST</th>\n",
       "      <th>P_MASS_EST</th>\n",
       "      <th>P_SEMI_MAJOR_AXIS_EST</th>\n",
       "    </tr>\n",
       "  </thead>\n",
       "  <tbody>\n",
       "    <tr>\n",
       "      <th>0</th>\n",
       "      <td>11 Com b</td>\n",
       "      <td>3.0</td>\n",
       "      <td>6165.86330</td>\n",
       "      <td>-476.74200</td>\n",
       "      <td>476.74200</td>\n",
       "      <td>NaN</td>\n",
       "      <td>NaN</td>\n",
       "      <td>NaN</td>\n",
       "      <td>2007</td>\n",
       "      <td>2014-05-14</td>\n",
       "      <td>...</td>\n",
       "      <td>0</td>\n",
       "      <td>Hot</td>\n",
       "      <td>0</td>\n",
       "      <td>0.083813</td>\n",
       "      <td>Coma Berenices</td>\n",
       "      <td>Com</td>\n",
       "      <td>Berenice's Hair</td>\n",
       "      <td>12.082709</td>\n",
       "      <td>6165.86330</td>\n",
       "      <td>1.29</td>\n",
       "    </tr>\n",
       "    <tr>\n",
       "      <th>1</th>\n",
       "      <td>11 UMi b</td>\n",
       "      <td>3.0</td>\n",
       "      <td>4684.78480</td>\n",
       "      <td>-794.57001</td>\n",
       "      <td>794.57001</td>\n",
       "      <td>NaN</td>\n",
       "      <td>NaN</td>\n",
       "      <td>NaN</td>\n",
       "      <td>2009</td>\n",
       "      <td>2018-09-06</td>\n",
       "      <td>...</td>\n",
       "      <td>0</td>\n",
       "      <td>Hot</td>\n",
       "      <td>0</td>\n",
       "      <td>0.082414</td>\n",
       "      <td>Ursa Minor</td>\n",
       "      <td>UMi</td>\n",
       "      <td>Little Bear</td>\n",
       "      <td>12.229641</td>\n",
       "      <td>4684.78480</td>\n",
       "      <td>1.53</td>\n",
       "    </tr>\n",
       "    <tr>\n",
       "      <th>2</th>\n",
       "      <td>14 And b</td>\n",
       "      <td>3.0</td>\n",
       "      <td>1525.57440</td>\n",
       "      <td>NaN</td>\n",
       "      <td>NaN</td>\n",
       "      <td>NaN</td>\n",
       "      <td>NaN</td>\n",
       "      <td>NaN</td>\n",
       "      <td>2008</td>\n",
       "      <td>2014-05-14</td>\n",
       "      <td>...</td>\n",
       "      <td>0</td>\n",
       "      <td>Hot</td>\n",
       "      <td>0</td>\n",
       "      <td>0.081917</td>\n",
       "      <td>Andromeda</td>\n",
       "      <td>And</td>\n",
       "      <td>Andromeda</td>\n",
       "      <td>12.848516</td>\n",
       "      <td>1525.57440</td>\n",
       "      <td>0.83</td>\n",
       "    </tr>\n",
       "    <tr>\n",
       "      <th>3</th>\n",
       "      <td>14 Her b</td>\n",
       "      <td>3.0</td>\n",
       "      <td>1481.07850</td>\n",
       "      <td>-47.67420</td>\n",
       "      <td>47.67420</td>\n",
       "      <td>NaN</td>\n",
       "      <td>NaN</td>\n",
       "      <td>NaN</td>\n",
       "      <td>2002</td>\n",
       "      <td>2018-09-06</td>\n",
       "      <td>...</td>\n",
       "      <td>0</td>\n",
       "      <td>Cold</td>\n",
       "      <td>0</td>\n",
       "      <td>0.145241</td>\n",
       "      <td>Hercules</td>\n",
       "      <td>Her</td>\n",
       "      <td>Hercules</td>\n",
       "      <td>12.865261</td>\n",
       "      <td>1481.07850</td>\n",
       "      <td>2.93</td>\n",
       "    </tr>\n",
       "    <tr>\n",
       "      <th>4</th>\n",
       "      <td>16 Cyg B b</td>\n",
       "      <td>3.0</td>\n",
       "      <td>565.73385</td>\n",
       "      <td>-25.42624</td>\n",
       "      <td>25.42624</td>\n",
       "      <td>NaN</td>\n",
       "      <td>NaN</td>\n",
       "      <td>NaN</td>\n",
       "      <td>1996</td>\n",
       "      <td>2018-09-06</td>\n",
       "      <td>...</td>\n",
       "      <td>1</td>\n",
       "      <td>Warm</td>\n",
       "      <td>0</td>\n",
       "      <td>0.368627</td>\n",
       "      <td>Cygnus</td>\n",
       "      <td>Cyg</td>\n",
       "      <td>Swan</td>\n",
       "      <td>13.421749</td>\n",
       "      <td>565.73385</td>\n",
       "      <td>1.66</td>\n",
       "    </tr>\n",
       "  </tbody>\n",
       "</table>\n",
       "<p>5 rows × 112 columns</p>\n",
       "</div>"
      ],
      "text/plain": [
       "       P_NAME  P_STATUS      P_MASS  P_MASS_ERROR_MIN  P_MASS_ERROR_MAX  \\\n",
       "0    11 Com b       3.0  6165.86330        -476.74200         476.74200   \n",
       "1    11 UMi b       3.0  4684.78480        -794.57001         794.57001   \n",
       "2    14 And b       3.0  1525.57440               NaN               NaN   \n",
       "3    14 Her b       3.0  1481.07850         -47.67420          47.67420   \n",
       "4  16 Cyg B b       3.0   565.73385         -25.42624          25.42624   \n",
       "\n",
       "   P_RADIUS  P_RADIUS_ERROR_MIN  P_RADIUS_ERROR_MAX  P_YEAR   P_UPDATED  ...  \\\n",
       "0       NaN                 NaN                 NaN    2007  2014-05-14  ...   \n",
       "1       NaN                 NaN                 NaN    2009  2018-09-06  ...   \n",
       "2       NaN                 NaN                 NaN    2008  2014-05-14  ...   \n",
       "3       NaN                 NaN                 NaN    2002  2018-09-06  ...   \n",
       "4       NaN                 NaN                 NaN    1996  2018-09-06  ...   \n",
       "\n",
       "   P_HABZONE_CON  P_TYPE_TEMP  P_HABITABLE     P_ESI  S_CONSTELLATION  \\\n",
       "0              0          Hot            0  0.083813   Coma Berenices   \n",
       "1              0          Hot            0  0.082414       Ursa Minor   \n",
       "2              0          Hot            0  0.081917        Andromeda   \n",
       "3              0         Cold            0  0.145241         Hercules   \n",
       "4              1         Warm            0  0.368627           Cygnus   \n",
       "\n",
       "   S_CONSTELLATION_ABR  S_CONSTELLATION_ENG  P_RADIUS_EST  P_MASS_EST  \\\n",
       "0                  Com      Berenice's Hair     12.082709  6165.86330   \n",
       "1                  UMi          Little Bear     12.229641  4684.78480   \n",
       "2                  And            Andromeda     12.848516  1525.57440   \n",
       "3                  Her             Hercules     12.865261  1481.07850   \n",
       "4                  Cyg                 Swan     13.421749   565.73385   \n",
       "\n",
       "   P_SEMI_MAJOR_AXIS_EST  \n",
       "0                   1.29  \n",
       "1                   1.53  \n",
       "2                   0.83  \n",
       "3                   2.93  \n",
       "4                   1.66  \n",
       "\n",
       "[5 rows x 112 columns]"
      ]
     },
     "execution_count": 8,
     "metadata": {},
     "output_type": "execute_result"
    }
   ],
   "source": [
    "hec.head()"
   ]
  },
  {
   "cell_type": "code",
   "execution_count": 9,
   "id": "4e58468a",
   "metadata": {},
   "outputs": [
    {
     "data": {
      "text/plain": [
       "0    3993\n",
       "2      34\n",
       "1      21\n",
       "Name: P_HABITABLE, dtype: int64"
      ]
     },
     "execution_count": 9,
     "metadata": {},
     "output_type": "execute_result"
    }
   ],
   "source": [
    "target_count = hec['P_HABITABLE'].value_counts()\n",
    "'''\n",
    "0 --> not habitable\n",
    "1 --> conservative\n",
    "2 --> optimistic\n",
    "'''\n",
    "target_count"
   ]
  },
  {
   "cell_type": "code",
   "execution_count": 10,
   "id": "94add235",
   "metadata": {},
   "outputs": [],
   "source": [
    "# drop not habitable planets\n",
    "hec = hec[hec.P_HABITABLE != 0]"
   ]
  },
  {
   "cell_type": "code",
   "execution_count": 11,
   "id": "d9357cdd",
   "metadata": {},
   "outputs": [],
   "source": [
    "# create habitable column for planets data with the help of hec dataframe\n",
    "# get names of planets\n",
    "\n",
    "habitable_planets = hec.P_NAME.values\n",
    "df['habitable'] = df['planet_name'].isin(habitable_planets)"
   ]
  },
  {
   "cell_type": "code",
   "execution_count": 12,
   "id": "d561f177",
   "metadata": {},
   "outputs": [
    {
     "name": "stdout",
     "output_type": "stream",
     "text": [
      "Class 0: 4515\n",
      "Class 1: 54\n",
      "Percentage of Majority Class: 98.82\n",
      "Percentage of Minority Class: 1.18\n"
     ]
    }
   ],
   "source": [
    "target_count = df['habitable'].value_counts()\n",
    "print(f'Class 0: {target_count[0]}')\n",
    "print(f'Class 1: {target_count[1]}')\n",
    "print(f'Percentage of Majority Class: {round(target_count[0] / sum(target_count), 4)*100}')\n",
    "print(f'Percentage of Minority Class: {round(target_count[1] / sum(target_count), 4)*100}')"
   ]
  },
  {
   "cell_type": "markdown",
   "id": "0cce6d66",
   "metadata": {},
   "source": [
    "### Handling Missing Data"
   ]
  },
  {
   "cell_type": "code",
   "execution_count": 13,
   "id": "09839e40",
   "metadata": {},
   "outputs": [],
   "source": [
    "# remove columns with more than 40% missing data\n",
    "def remove_missing(f):\n",
    "    count = len(df[df[f].isnull()])\n",
    "    if count/len(df) > 0.4:\n",
    "        return 1\n",
    "    else:\n",
    "        return 0\n",
    "\n",
    "missing_values = [x for x in df.columns if remove_missing(x)]\n",
    "df = df.drop(missing_values, axis=1)"
   ]
  },
  {
   "cell_type": "code",
   "execution_count": 14,
   "id": "7951eeb0",
   "metadata": {},
   "outputs": [],
   "source": [
    "from sklearn.experimental import enable_iterative_imputer\n",
    "from sklearn.impute import IterativeImputer\n",
    "\n",
    "from sklearn.ensemble import RandomForestRegressor\n",
    "\n",
    "# IterativeImputer\n",
    "# get only numeric values\n",
    "numeric_values = df[df._get_numeric_data().columns]\n",
    "imp = IterativeImputer(RandomForestRegressor(), max_iter=10, random_state=76)\n",
    "numeric_values = pd.DataFrame(imp.fit_transform(numeric_values), columns=numeric_values.columns)\n",
    "numeric_values.to_csv('Imputed Data.csv', index='rowid')"
   ]
  },
  {
   "cell_type": "code",
   "execution_count": 15,
   "id": "bcb967d7",
   "metadata": {},
   "outputs": [],
   "source": [
    "imputed_numerics = pd.read_csv('data/Imputed Data.csv')"
   ]
  },
  {
   "cell_type": "code",
   "execution_count": 16,
   "id": "629d4fe7",
   "metadata": {},
   "outputs": [],
   "source": [
    "# merge imputed data with the planets dataframe\n",
    "for i in imputed_numerics.columns:\n",
    "    if i not in df.columns:\n",
    "        pass\n",
    "    else:\n",
    "        df[i] = imputed_numerics[i]"
   ]
  },
  {
   "cell_type": "code",
   "execution_count": 17,
   "id": "e0905bcc",
   "metadata": {},
   "outputs": [
    {
     "data": {
      "text/plain": [
       "<AxesSubplot:>"
      ]
     },
     "execution_count": 17,
     "metadata": {},
     "output_type": "execute_result"
    },
    {
     "data": {
      "image/png": "[encoded data removed]",
      "text/plain": [
       "<Figure size 1800x720 with 2 Axes>"
      ]
     },
     "metadata": {
      "needs_background": "light"
     },
     "output_type": "display_data"
    }
   ],
   "source": [
    "# also drop these columns too since they are useless to modeling\n",
    "cols_to_drop = ['default_flag']\n",
    "\n",
    "df = df.drop(cols_to_drop, axis=1)\n",
    "\n",
    "\n",
    "msno.matrix(df)"
   ]
  },
  {
   "cell_type": "code",
   "execution_count": 18,
   "id": "1b3afbad",
   "metadata": {},
   "outputs": [
    {
     "data": {
      "text/html": [
       "<div>\n",
       "<style scoped>\n",
       "    .dataframe tbody tr th:only-of-type {\n",
       "        vertical-align: middle;\n",
       "    }\n",
       "\n",
       "    .dataframe tbody tr th {\n",
       "        vertical-align: top;\n",
       "    }\n",
       "\n",
       "    .dataframe thead th {\n",
       "        text-align: right;\n",
       "    }\n",
       "</style>\n",
       "<table border=\"1\" class=\"dataframe\">\n",
       "  <thead>\n",
       "    <tr style=\"text-align: right;\">\n",
       "      <th></th>\n",
       "      <th>index</th>\n",
       "      <th>planet_name</th>\n",
       "      <th>hostname</th>\n",
       "      <th>number_of_stars</th>\n",
       "      <th>number_of_planets</th>\n",
       "      <th>planet_orbital_period</th>\n",
       "      <th>orbit_semimajor_axis</th>\n",
       "      <th>planet_radius</th>\n",
       "      <th>stellar_temperature</th>\n",
       "      <th>stellar_radius</th>\n",
       "      <th>stellar_mass</th>\n",
       "      <th>system_distance</th>\n",
       "      <th>habitable</th>\n",
       "    </tr>\n",
       "  </thead>\n",
       "  <tbody>\n",
       "    <tr>\n",
       "      <th>0</th>\n",
       "      <td>0.0</td>\n",
       "      <td>11 Com b</td>\n",
       "      <td>11 Com</td>\n",
       "      <td>2.0</td>\n",
       "      <td>1.0</td>\n",
       "      <td>326.030000</td>\n",
       "      <td>1.290000</td>\n",
       "      <td>14.02644</td>\n",
       "      <td>4742.0000</td>\n",
       "      <td>19.00</td>\n",
       "      <td>2.70</td>\n",
       "      <td>93.1846</td>\n",
       "      <td>0.0</td>\n",
       "    </tr>\n",
       "    <tr>\n",
       "      <th>1</th>\n",
       "      <td>3.0</td>\n",
       "      <td>11 UMi b</td>\n",
       "      <td>11 UMi</td>\n",
       "      <td>1.0</td>\n",
       "      <td>1.0</td>\n",
       "      <td>516.219970</td>\n",
       "      <td>1.530000</td>\n",
       "      <td>14.78741</td>\n",
       "      <td>4213.0000</td>\n",
       "      <td>29.79</td>\n",
       "      <td>2.78</td>\n",
       "      <td>125.3210</td>\n",
       "      <td>0.0</td>\n",
       "    </tr>\n",
       "    <tr>\n",
       "      <th>2</th>\n",
       "      <td>6.0</td>\n",
       "      <td>14 And b</td>\n",
       "      <td>14 And</td>\n",
       "      <td>1.0</td>\n",
       "      <td>1.0</td>\n",
       "      <td>185.840000</td>\n",
       "      <td>0.830000</td>\n",
       "      <td>13.37516</td>\n",
       "      <td>4813.0000</td>\n",
       "      <td>11.00</td>\n",
       "      <td>2.20</td>\n",
       "      <td>75.4392</td>\n",
       "      <td>0.0</td>\n",
       "    </tr>\n",
       "    <tr>\n",
       "      <th>3</th>\n",
       "      <td>12.0</td>\n",
       "      <td>14 Her b</td>\n",
       "      <td>14 Her</td>\n",
       "      <td>1.0</td>\n",
       "      <td>2.0</td>\n",
       "      <td>1773.400020</td>\n",
       "      <td>2.930000</td>\n",
       "      <td>5.13886</td>\n",
       "      <td>5338.0000</td>\n",
       "      <td>0.93</td>\n",
       "      <td>0.90</td>\n",
       "      <td>17.9323</td>\n",
       "      <td>0.0</td>\n",
       "    </tr>\n",
       "    <tr>\n",
       "      <th>4</th>\n",
       "      <td>15.0</td>\n",
       "      <td>16 Cyg B b</td>\n",
       "      <td>16 Cyg B</td>\n",
       "      <td>3.0</td>\n",
       "      <td>1.0</td>\n",
       "      <td>798.500000</td>\n",
       "      <td>1.660000</td>\n",
       "      <td>8.45273</td>\n",
       "      <td>5750.0000</td>\n",
       "      <td>1.13</td>\n",
       "      <td>1.08</td>\n",
       "      <td>21.1397</td>\n",
       "      <td>0.0</td>\n",
       "    </tr>\n",
       "    <tr>\n",
       "      <th>...</th>\n",
       "      <td>...</td>\n",
       "      <td>...</td>\n",
       "      <td>...</td>\n",
       "      <td>...</td>\n",
       "      <td>...</td>\n",
       "      <td>...</td>\n",
       "      <td>...</td>\n",
       "      <td>...</td>\n",
       "      <td>...</td>\n",
       "      <td>...</td>\n",
       "      <td>...</td>\n",
       "      <td>...</td>\n",
       "      <td>...</td>\n",
       "    </tr>\n",
       "    <tr>\n",
       "      <th>4564</th>\n",
       "      <td>29580.0</td>\n",
       "      <td>tau Gem b</td>\n",
       "      <td>tau Gem</td>\n",
       "      <td>1.0</td>\n",
       "      <td>1.0</td>\n",
       "      <td>305.500000</td>\n",
       "      <td>1.170000</td>\n",
       "      <td>14.61674</td>\n",
       "      <td>4388.0000</td>\n",
       "      <td>26.80</td>\n",
       "      <td>2.30</td>\n",
       "      <td>112.5370</td>\n",
       "      <td>0.0</td>\n",
       "    </tr>\n",
       "    <tr>\n",
       "      <th>4565</th>\n",
       "      <td>29588.0</td>\n",
       "      <td>ups And b</td>\n",
       "      <td>ups And</td>\n",
       "      <td>2.0</td>\n",
       "      <td>3.0</td>\n",
       "      <td>4.617033</td>\n",
       "      <td>0.059222</td>\n",
       "      <td>6.44500</td>\n",
       "      <td>6279.6242</td>\n",
       "      <td>1.56</td>\n",
       "      <td>1.30</td>\n",
       "      <td>13.4054</td>\n",
       "      <td>0.0</td>\n",
       "    </tr>\n",
       "    <tr>\n",
       "      <th>4566</th>\n",
       "      <td>29590.0</td>\n",
       "      <td>ups And c</td>\n",
       "      <td>ups And</td>\n",
       "      <td>2.0</td>\n",
       "      <td>3.0</td>\n",
       "      <td>241.258000</td>\n",
       "      <td>0.827774</td>\n",
       "      <td>6.52678</td>\n",
       "      <td>6258.6534</td>\n",
       "      <td>1.56</td>\n",
       "      <td>1.30</td>\n",
       "      <td>13.4054</td>\n",
       "      <td>0.0</td>\n",
       "    </tr>\n",
       "    <tr>\n",
       "      <th>4567</th>\n",
       "      <td>29598.0</td>\n",
       "      <td>ups And d</td>\n",
       "      <td>ups And</td>\n",
       "      <td>2.0</td>\n",
       "      <td>3.0</td>\n",
       "      <td>1276.460000</td>\n",
       "      <td>2.513290</td>\n",
       "      <td>6.52678</td>\n",
       "      <td>6238.3519</td>\n",
       "      <td>1.56</td>\n",
       "      <td>1.30</td>\n",
       "      <td>13.4054</td>\n",
       "      <td>0.0</td>\n",
       "    </tr>\n",
       "    <tr>\n",
       "      <th>4568</th>\n",
       "      <td>29602.0</td>\n",
       "      <td>xi Aql b</td>\n",
       "      <td>xi Aql</td>\n",
       "      <td>1.0</td>\n",
       "      <td>1.0</td>\n",
       "      <td>136.750000</td>\n",
       "      <td>0.680000</td>\n",
       "      <td>9.71972</td>\n",
       "      <td>4780.0000</td>\n",
       "      <td>12.00</td>\n",
       "      <td>2.20</td>\n",
       "      <td>56.1858</td>\n",
       "      <td>0.0</td>\n",
       "    </tr>\n",
       "  </tbody>\n",
       "</table>\n",
       "<p>4569 rows × 13 columns</p>\n",
       "</div>"
      ],
      "text/plain": [
       "        index planet_name  hostname  number_of_stars  number_of_planets  \\\n",
       "0         0.0    11 Com b    11 Com              2.0                1.0   \n",
       "1         3.0    11 UMi b    11 UMi              1.0                1.0   \n",
       "2         6.0    14 And b    14 And              1.0                1.0   \n",
       "3        12.0    14 Her b    14 Her              1.0                2.0   \n",
       "4        15.0  16 Cyg B b  16 Cyg B              3.0                1.0   \n",
       "...       ...         ...       ...              ...                ...   \n",
       "4564  29580.0   tau Gem b   tau Gem              1.0                1.0   \n",
       "4565  29588.0   ups And b   ups And              2.0                3.0   \n",
       "4566  29590.0   ups And c   ups And              2.0                3.0   \n",
       "4567  29598.0   ups And d   ups And              2.0                3.0   \n",
       "4568  29602.0    xi Aql b    xi Aql              1.0                1.0   \n",
       "\n",
       "      planet_orbital_period  orbit_semimajor_axis  planet_radius  \\\n",
       "0                326.030000              1.290000       14.02644   \n",
       "1                516.219970              1.530000       14.78741   \n",
       "2                185.840000              0.830000       13.37516   \n",
       "3               1773.400020              2.930000        5.13886   \n",
       "4                798.500000              1.660000        8.45273   \n",
       "...                     ...                   ...            ...   \n",
       "4564             305.500000              1.170000       14.61674   \n",
       "4565               4.617033              0.059222        6.44500   \n",
       "4566             241.258000              0.827774        6.52678   \n",
       "4567            1276.460000              2.513290        6.52678   \n",
       "4568             136.750000              0.680000        9.71972   \n",
       "\n",
       "      stellar_temperature  stellar_radius  stellar_mass  system_distance  \\\n",
       "0               4742.0000           19.00          2.70          93.1846   \n",
       "1               4213.0000           29.79          2.78         125.3210   \n",
       "2               4813.0000           11.00          2.20          75.4392   \n",
       "3               5338.0000            0.93          0.90          17.9323   \n",
       "4               5750.0000            1.13          1.08          21.1397   \n",
       "...                   ...             ...           ...              ...   \n",
       "4564            4388.0000           26.80          2.30         112.5370   \n",
       "4565            6279.6242            1.56          1.30          13.4054   \n",
       "4566            6258.6534            1.56          1.30          13.4054   \n",
       "4567            6238.3519            1.56          1.30          13.4054   \n",
       "4568            4780.0000           12.00          2.20          56.1858   \n",
       "\n",
       "      habitable  \n",
       "0           0.0  \n",
       "1           0.0  \n",
       "2           0.0  \n",
       "3           0.0  \n",
       "4           0.0  \n",
       "...         ...  \n",
       "4564        0.0  \n",
       "4565        0.0  \n",
       "4566        0.0  \n",
       "4567        0.0  \n",
       "4568        0.0  \n",
       "\n",
       "[4569 rows x 13 columns]"
      ]
     },
     "execution_count": 18,
     "metadata": {},
     "output_type": "execute_result"
    }
   ],
   "source": [
    "df"
   ]
  },
  {
   "cell_type": "code",
   "execution_count": 19,
   "id": "e635645a",
   "metadata": {},
   "outputs": [
    {
     "name": "stdout",
     "output_type": "stream",
     "text": [
      "False\n"
     ]
    }
   ],
   "source": [
    "# Any missing values?\n",
    "print(df.isnull().values.any())\n"
   ]
  },
  {
   "cell_type": "markdown",
   "id": "3720730d",
   "metadata": {},
   "source": [
    "###  Part 2: Visualization & EDA"
   ]
  },
  {
   "cell_type": "code",
   "execution_count": 20,
   "id": "3b5a1a71",
   "metadata": {},
   "outputs": [
    {
     "name": "stdout",
     "output_type": "stream",
     "text": [
      "<class 'pandas.core.frame.DataFrame'>\n",
      "RangeIndex: 4569 entries, 0 to 4568\n",
      "Data columns (total 13 columns):\n",
      " #   Column                 Non-Null Count  Dtype  \n",
      "---  ------                 --------------  -----  \n",
      " 0   index                  4569 non-null   float64\n",
      " 1   planet_name            4569 non-null   object \n",
      " 2   hostname               4569 non-null   object \n",
      " 3   number_of_stars        4569 non-null   float64\n",
      " 4   number_of_planets      4569 non-null   float64\n",
      " 5   planet_orbital_period  4569 non-null   float64\n",
      " 6   orbit_semimajor_axis   4569 non-null   float64\n",
      " 7   planet_radius          4569 non-null   float64\n",
      " 8   stellar_temperature    4569 non-null   float64\n",
      " 9   stellar_radius         4569 non-null   float64\n",
      " 10  stellar_mass           4569 non-null   float64\n",
      " 11  system_distance        4569 non-null   float64\n",
      " 12  habitable              4569 non-null   float64\n",
      "dtypes: float64(11), object(2)\n",
      "memory usage: 464.2+ KB\n"
     ]
    }
   ],
   "source": [
    "df.info()"
   ]
  },
  {
   "cell_type": "code",
   "execution_count": 21,
   "id": "a93f2e7f",
   "metadata": {},
   "outputs": [
    {
     "data": {
      "text/plain": [
       "Text(0.5, 1.0, 'Temperature - Mass Relation with Habitability')"
      ]
     },
     "execution_count": 21,
     "metadata": {},
     "output_type": "execute_result"
    },
    {
     "data": {
      "image/png": "[encoded data removed]",
      "text/plain": [
       "<Figure size 1296x864 with 1 Axes>"
      ]
     },
     "metadata": {
      "needs_background": "light"
     },
     "output_type": "display_data"
    }
   ],
   "source": [
    "plt.figure(figsize=(18, 12))\n",
    "ax = sns.scatterplot(x='stellar_mass', y='stellar_temperature',\n",
    "                     hue='habitable', size='stellar_mass',\n",
    "                     sizes=(40, 400), alpha=.7,\n",
    "                     data=df)\n",
    "# limiting x and y axis's values\n",
    "ax.axis([0,2, 0, 8000])\n",
    "ax.set_xlabel('Stellar Mass (Solar Mass)', fontsize=13)\n",
    "ax.set_ylabel('Effective Temperature (Kelvin)', fontsize=13)\n",
    "ax.set_title('Temperature - Mass Relation with Habitability', fontsize=18)\n",
    "\n"
   ]
  },
  {
   "cell_type": "code",
   "execution_count": 22,
   "id": "72c58471",
   "metadata": {},
   "outputs": [
    {
     "data": {
      "text/html": [
       "<div>\n",
       "<style scoped>\n",
       "    .dataframe tbody tr th:only-of-type {\n",
       "        vertical-align: middle;\n",
       "    }\n",
       "\n",
       "    .dataframe tbody tr th {\n",
       "        vertical-align: top;\n",
       "    }\n",
       "\n",
       "    .dataframe thead th {\n",
       "        text-align: right;\n",
       "    }\n",
       "</style>\n",
       "<table border=\"1\" class=\"dataframe\">\n",
       "  <thead>\n",
       "    <tr style=\"text-align: right;\">\n",
       "      <th></th>\n",
       "      <th>habitable</th>\n",
       "    </tr>\n",
       "  </thead>\n",
       "  <tbody>\n",
       "    <tr>\n",
       "      <th>habitable</th>\n",
       "      <td>1.000000</td>\n",
       "    </tr>\n",
       "    <tr>\n",
       "      <th>number_of_planets</th>\n",
       "      <td>0.092722</td>\n",
       "    </tr>\n",
       "    <tr>\n",
       "      <th>number_of_stars</th>\n",
       "      <td>0.034946</td>\n",
       "    </tr>\n",
       "    <tr>\n",
       "      <th>index</th>\n",
       "      <td>0.009867</td>\n",
       "    </tr>\n",
       "    <tr>\n",
       "      <th>planet_orbital_period</th>\n",
       "      <td>-0.002215</td>\n",
       "    </tr>\n",
       "    <tr>\n",
       "      <th>orbit_semimajor_axis</th>\n",
       "      <td>-0.004914</td>\n",
       "    </tr>\n",
       "    <tr>\n",
       "      <th>stellar_radius</th>\n",
       "      <td>-0.029794</td>\n",
       "    </tr>\n",
       "    <tr>\n",
       "      <th>system_distance</th>\n",
       "      <td>-0.048643</td>\n",
       "    </tr>\n",
       "    <tr>\n",
       "      <th>planet_radius</th>\n",
       "      <td>-0.061543</td>\n",
       "    </tr>\n",
       "    <tr>\n",
       "      <th>stellar_temperature</th>\n",
       "      <td>-0.086056</td>\n",
       "    </tr>\n",
       "  </tbody>\n",
       "</table>\n",
       "</div>"
      ],
      "text/plain": [
       "                       habitable\n",
       "habitable               1.000000\n",
       "number_of_planets       0.092722\n",
       "number_of_stars         0.034946\n",
       "index                   0.009867\n",
       "planet_orbital_period  -0.002215\n",
       "orbit_semimajor_axis   -0.004914\n",
       "stellar_radius         -0.029794\n",
       "system_distance        -0.048643\n",
       "planet_radius          -0.061543\n",
       "stellar_temperature    -0.086056"
      ]
     },
     "execution_count": 22,
     "metadata": {},
     "output_type": "execute_result"
    }
   ],
   "source": [
    "corr_mtrx = df.corr()\n",
    "corr_df = pd.DataFrame(corr_mtrx['habitable'].sort_values(ascending=False))\n",
    "corr_df.head(10)"
   ]
  },
  {
   "cell_type": "markdown",
   "id": "02c7868d",
   "metadata": {},
   "source": [
    "### Distance - Travel Time"
   ]
  },
  {
   "cell_type": "code",
   "execution_count": 23,
   "id": "8cd248a1",
   "metadata": {},
   "outputs": [],
   "source": [
    "planets_c = df[['system_distance', 'habitable', 'stellar_mass']]\n",
    "planets_c.drop(planets_c[planets_c.habitable != 1].index, inplace=True)"
   ]
  },
  {
   "cell_type": "code",
   "execution_count": 24,
   "id": "013d77ff",
   "metadata": {},
   "outputs": [
    {
     "data": {
      "text/html": [
       "<div>\n",
       "<style scoped>\n",
       "    .dataframe tbody tr th:only-of-type {\n",
       "        vertical-align: middle;\n",
       "    }\n",
       "\n",
       "    .dataframe tbody tr th {\n",
       "        vertical-align: top;\n",
       "    }\n",
       "\n",
       "    .dataframe thead th {\n",
       "        text-align: right;\n",
       "    }\n",
       "</style>\n",
       "<table border=\"1\" class=\"dataframe\">\n",
       "  <thead>\n",
       "    <tr style=\"text-align: right;\">\n",
       "      <th></th>\n",
       "      <th>system_distance</th>\n",
       "      <th>habitable</th>\n",
       "      <th>stellar_mass</th>\n",
       "      <th>dist_to_star_ly</th>\n",
       "      <th>minimum_travel_time_year</th>\n",
       "    </tr>\n",
       "  </thead>\n",
       "  <tbody>\n",
       "    <tr>\n",
       "      <th>168</th>\n",
       "      <td>3.672780</td>\n",
       "      <td>1.0</td>\n",
       "      <td>0.1200</td>\n",
       "      <td>11.973263</td>\n",
       "      <td>2.076332e+05</td>\n",
       "    </tr>\n",
       "    <tr>\n",
       "      <th>169</th>\n",
       "      <td>3.672780</td>\n",
       "      <td>1.0</td>\n",
       "      <td>0.1200</td>\n",
       "      <td>11.973263</td>\n",
       "      <td>2.076332e+05</td>\n",
       "    </tr>\n",
       "    <tr>\n",
       "      <th>183</th>\n",
       "      <td>15.128500</td>\n",
       "      <td>1.0</td>\n",
       "      <td>1.0583</td>\n",
       "      <td>49.318910</td>\n",
       "      <td>8.552593e+05</td>\n",
       "    </tr>\n",
       "    <tr>\n",
       "      <th>194</th>\n",
       "      <td>5.921535</td>\n",
       "      <td>1.0</td>\n",
       "      <td>0.2900</td>\n",
       "      <td>19.304204</td>\n",
       "      <td>3.347621e+05</td>\n",
       "    </tr>\n",
       "    <tr>\n",
       "      <th>206</th>\n",
       "      <td>20.190300</td>\n",
       "      <td>1.0</td>\n",
       "      <td>0.4200</td>\n",
       "      <td>65.820378</td>\n",
       "      <td>1.141418e+06</td>\n",
       "    </tr>\n",
       "  </tbody>\n",
       "</table>\n",
       "</div>"
      ],
      "text/plain": [
       "     system_distance  habitable  stellar_mass  dist_to_star_ly  \\\n",
       "168         3.672780        1.0        0.1200        11.973263   \n",
       "169         3.672780        1.0        0.1200        11.973263   \n",
       "183        15.128500        1.0        1.0583        49.318910   \n",
       "194         5.921535        1.0        0.2900        19.304204   \n",
       "206        20.190300        1.0        0.4200        65.820378   \n",
       "\n",
       "     minimum_travel_time_year  \n",
       "168              2.076332e+05  \n",
       "169              2.076332e+05  \n",
       "183              8.552593e+05  \n",
       "194              3.347621e+05  \n",
       "206              1.141418e+06  "
      ]
     },
     "execution_count": 24,
     "metadata": {},
     "output_type": "execute_result"
    }
   ],
   "source": [
    "\n",
    "\n",
    "planets_c['dist_to_star_ly'] = planets_c['system_distance'] * 3.26\n",
    "\"\"\"\n",
    "The Voyager 1 spacecraft is on an interstellar mission. It is traveling away from the Sun at a rate of 17.3 km/s. It means\n",
    "62280 km/h. \n",
    "1 light year = 9.4605284 × 10^12 kilometers\n",
    "1 year = 8760 hours\n",
    "1 speed of light = 1079252848.8 km/h\n",
    "\"\"\" \n",
    "planets_c['minimum_travel_time_year'] = (((planets_c['dist_to_star_ly'] * 9.461e12) / 62280) / 8760)\n",
    "planets_c.head()\n",
    "\n"
   ]
  },
  {
   "cell_type": "code",
   "execution_count": 25,
   "id": "542d709a",
   "metadata": {},
   "outputs": [
    {
     "data": {
      "text/plain": [
       "<seaborn.axisgrid.FacetGrid at 0x185ba9dbb20>"
      ]
     },
     "execution_count": 25,
     "metadata": {},
     "output_type": "execute_result"
    },
    {
     "data": {
      "image/png": "[encoded data removed]",
      "text/plain": [
       "<Figure size 502.5x432 with 1 Axes>"
      ]
     },
     "metadata": {
      "needs_background": "light"
     },
     "output_type": "display_data"
    }
   ],
   "source": [
    "sns.relplot(x=\"dist_to_star_ly\", y=\"minimum_travel_time_year\", size=\"stellar_mass\",\n",
    "            sizes=(40, 400), alpha=.5, palette=\"muted\",\n",
    "            height=6, data=planets_c)"
   ]
  },
  {
   "cell_type": "markdown",
   "id": "eab2b84c",
   "metadata": {},
   "source": [
    "### Part 3: Heading to Machine Learning"
   ]
  },
  {
   "cell_type": "code",
   "execution_count": 26,
   "id": "3785dcca",
   "metadata": {},
   "outputs": [],
   "source": [
    "planets_df = df.copy()"
   ]
  },
  {
   "cell_type": "code",
   "execution_count": 27,
   "id": "c617583e",
   "metadata": {},
   "outputs": [
    {
     "data": {
      "text/html": [
       "<div>\n",
       "<style scoped>\n",
       "    .dataframe tbody tr th:only-of-type {\n",
       "        vertical-align: middle;\n",
       "    }\n",
       "\n",
       "    .dataframe tbody tr th {\n",
       "        vertical-align: top;\n",
       "    }\n",
       "\n",
       "    .dataframe thead th {\n",
       "        text-align: right;\n",
       "    }\n",
       "</style>\n",
       "<table border=\"1\" class=\"dataframe\">\n",
       "  <thead>\n",
       "    <tr style=\"text-align: right;\">\n",
       "      <th></th>\n",
       "      <th>number_of_stars</th>\n",
       "      <th>number_of_planets</th>\n",
       "      <th>planet_orbital_period</th>\n",
       "      <th>orbit_semimajor_axis</th>\n",
       "      <th>planet_radius</th>\n",
       "      <th>stellar_temperature</th>\n",
       "      <th>stellar_radius</th>\n",
       "      <th>stellar_mass</th>\n",
       "      <th>habitable</th>\n",
       "    </tr>\n",
       "  </thead>\n",
       "  <tbody>\n",
       "    <tr>\n",
       "      <th>0</th>\n",
       "      <td>2.0</td>\n",
       "      <td>1.0</td>\n",
       "      <td>326.030000</td>\n",
       "      <td>1.290000</td>\n",
       "      <td>14.02644</td>\n",
       "      <td>4742.0000</td>\n",
       "      <td>19.00</td>\n",
       "      <td>2.70</td>\n",
       "      <td>0.0</td>\n",
       "    </tr>\n",
       "    <tr>\n",
       "      <th>1</th>\n",
       "      <td>1.0</td>\n",
       "      <td>1.0</td>\n",
       "      <td>516.219970</td>\n",
       "      <td>1.530000</td>\n",
       "      <td>14.78741</td>\n",
       "      <td>4213.0000</td>\n",
       "      <td>29.79</td>\n",
       "      <td>2.78</td>\n",
       "      <td>0.0</td>\n",
       "    </tr>\n",
       "    <tr>\n",
       "      <th>2</th>\n",
       "      <td>1.0</td>\n",
       "      <td>1.0</td>\n",
       "      <td>185.840000</td>\n",
       "      <td>0.830000</td>\n",
       "      <td>13.37516</td>\n",
       "      <td>4813.0000</td>\n",
       "      <td>11.00</td>\n",
       "      <td>2.20</td>\n",
       "      <td>0.0</td>\n",
       "    </tr>\n",
       "    <tr>\n",
       "      <th>3</th>\n",
       "      <td>1.0</td>\n",
       "      <td>2.0</td>\n",
       "      <td>1773.400020</td>\n",
       "      <td>2.930000</td>\n",
       "      <td>5.13886</td>\n",
       "      <td>5338.0000</td>\n",
       "      <td>0.93</td>\n",
       "      <td>0.90</td>\n",
       "      <td>0.0</td>\n",
       "    </tr>\n",
       "    <tr>\n",
       "      <th>4</th>\n",
       "      <td>3.0</td>\n",
       "      <td>1.0</td>\n",
       "      <td>798.500000</td>\n",
       "      <td>1.660000</td>\n",
       "      <td>8.45273</td>\n",
       "      <td>5750.0000</td>\n",
       "      <td>1.13</td>\n",
       "      <td>1.08</td>\n",
       "      <td>0.0</td>\n",
       "    </tr>\n",
       "    <tr>\n",
       "      <th>...</th>\n",
       "      <td>...</td>\n",
       "      <td>...</td>\n",
       "      <td>...</td>\n",
       "      <td>...</td>\n",
       "      <td>...</td>\n",
       "      <td>...</td>\n",
       "      <td>...</td>\n",
       "      <td>...</td>\n",
       "      <td>...</td>\n",
       "    </tr>\n",
       "    <tr>\n",
       "      <th>4564</th>\n",
       "      <td>1.0</td>\n",
       "      <td>1.0</td>\n",
       "      <td>305.500000</td>\n",
       "      <td>1.170000</td>\n",
       "      <td>14.61674</td>\n",
       "      <td>4388.0000</td>\n",
       "      <td>26.80</td>\n",
       "      <td>2.30</td>\n",
       "      <td>0.0</td>\n",
       "    </tr>\n",
       "    <tr>\n",
       "      <th>4565</th>\n",
       "      <td>2.0</td>\n",
       "      <td>3.0</td>\n",
       "      <td>4.617033</td>\n",
       "      <td>0.059222</td>\n",
       "      <td>6.44500</td>\n",
       "      <td>6279.6242</td>\n",
       "      <td>1.56</td>\n",
       "      <td>1.30</td>\n",
       "      <td>0.0</td>\n",
       "    </tr>\n",
       "    <tr>\n",
       "      <th>4566</th>\n",
       "      <td>2.0</td>\n",
       "      <td>3.0</td>\n",
       "      <td>241.258000</td>\n",
       "      <td>0.827774</td>\n",
       "      <td>6.52678</td>\n",
       "      <td>6258.6534</td>\n",
       "      <td>1.56</td>\n",
       "      <td>1.30</td>\n",
       "      <td>0.0</td>\n",
       "    </tr>\n",
       "    <tr>\n",
       "      <th>4567</th>\n",
       "      <td>2.0</td>\n",
       "      <td>3.0</td>\n",
       "      <td>1276.460000</td>\n",
       "      <td>2.513290</td>\n",
       "      <td>6.52678</td>\n",
       "      <td>6238.3519</td>\n",
       "      <td>1.56</td>\n",
       "      <td>1.30</td>\n",
       "      <td>0.0</td>\n",
       "    </tr>\n",
       "    <tr>\n",
       "      <th>4568</th>\n",
       "      <td>1.0</td>\n",
       "      <td>1.0</td>\n",
       "      <td>136.750000</td>\n",
       "      <td>0.680000</td>\n",
       "      <td>9.71972</td>\n",
       "      <td>4780.0000</td>\n",
       "      <td>12.00</td>\n",
       "      <td>2.20</td>\n",
       "      <td>0.0</td>\n",
       "    </tr>\n",
       "  </tbody>\n",
       "</table>\n",
       "<p>4569 rows × 9 columns</p>\n",
       "</div>"
      ],
      "text/plain": [
       "      number_of_stars  number_of_planets  planet_orbital_period  \\\n",
       "0                 2.0                1.0             326.030000   \n",
       "1                 1.0                1.0             516.219970   \n",
       "2                 1.0                1.0             185.840000   \n",
       "3                 1.0                2.0            1773.400020   \n",
       "4                 3.0                1.0             798.500000   \n",
       "...               ...                ...                    ...   \n",
       "4564              1.0                1.0             305.500000   \n",
       "4565              2.0                3.0               4.617033   \n",
       "4566              2.0                3.0             241.258000   \n",
       "4567              2.0                3.0            1276.460000   \n",
       "4568              1.0                1.0             136.750000   \n",
       "\n",
       "      orbit_semimajor_axis  planet_radius  stellar_temperature  \\\n",
       "0                 1.290000       14.02644            4742.0000   \n",
       "1                 1.530000       14.78741            4213.0000   \n",
       "2                 0.830000       13.37516            4813.0000   \n",
       "3                 2.930000        5.13886            5338.0000   \n",
       "4                 1.660000        8.45273            5750.0000   \n",
       "...                    ...            ...                  ...   \n",
       "4564              1.170000       14.61674            4388.0000   \n",
       "4565              0.059222        6.44500            6279.6242   \n",
       "4566              0.827774        6.52678            6258.6534   \n",
       "4567              2.513290        6.52678            6238.3519   \n",
       "4568              0.680000        9.71972            4780.0000   \n",
       "\n",
       "      stellar_radius  stellar_mass  habitable  \n",
       "0              19.00          2.70        0.0  \n",
       "1              29.79          2.78        0.0  \n",
       "2              11.00          2.20        0.0  \n",
       "3               0.93          0.90        0.0  \n",
       "4               1.13          1.08        0.0  \n",
       "...              ...           ...        ...  \n",
       "4564           26.80          2.30        0.0  \n",
       "4565            1.56          1.30        0.0  \n",
       "4566            1.56          1.30        0.0  \n",
       "4567            1.56          1.30        0.0  \n",
       "4568           12.00          2.20        0.0  \n",
       "\n",
       "[4569 rows x 9 columns]"
      ]
     },
     "execution_count": 27,
     "metadata": {},
     "output_type": "execute_result"
    }
   ],
   "source": [
    "cols_to_drop = ['index','planet_name','hostname','system_distance']\n",
    "planets_df = planets_df.drop(cols_to_drop, axis=1)\n",
    "\n",
    "\n",
    "planets_df"
   ]
  },
  {
   "cell_type": "markdown",
   "id": "ca8a9802",
   "metadata": {},
   "source": [
    "### SMOTE - Over Sampling"
   ]
  },
  {
   "cell_type": "code",
   "execution_count": 28,
   "id": "68bff653",
   "metadata": {},
   "outputs": [
    {
     "data": {
      "text/plain": [
       "(3426, 8)"
      ]
     },
     "execution_count": 28,
     "metadata": {},
     "output_type": "execute_result"
    }
   ],
   "source": [
    "# Basic validation: splitting the data 60 - 20 - 20 train/val/test\n",
    "X_train, X_test, y_train, y_test = train_test_split(planets_df.iloc[:, :-1], planets_df.loc[:, 'habitable'], test_size=0.25,random_state=76)\n",
    "X_train.shape # shape of my train set"
   ]
  },
  {
   "cell_type": "code",
   "execution_count": 29,
   "id": "441014e4",
   "metadata": {},
   "outputs": [],
   "source": [
    "# Resampling imbalanced data\n",
    "from imblearn.over_sampling import SMOTE\n",
    "\n",
    "X_smoted, y_smoted = SMOTE(sampling_strategy='minority', random_state=76).fit_resample(X_train, y_train)"
   ]
  },
  {
   "cell_type": "code",
   "execution_count": 30,
   "id": "54a03ee9",
   "metadata": {},
   "outputs": [
    {
     "data": {
      "text/plain": [
       "(6766, 8)"
      ]
     },
     "execution_count": 30,
     "metadata": {},
     "output_type": "execute_result"
    }
   ],
   "source": [
    "X_smoted.shape"
   ]
  },
  {
   "cell_type": "code",
   "execution_count": 31,
   "id": "e4160754",
   "metadata": {},
   "outputs": [
    {
     "data": {
      "text/plain": [
       "<AxesSubplot:>"
      ]
     },
     "execution_count": 31,
     "metadata": {},
     "output_type": "execute_result"
    },
    {
     "data": {
      "image/png": "[encoded data removed]",
      "text/plain": [
       "<Figure size 432x288 with 1 Axes>"
      ]
     },
     "metadata": {
      "needs_background": "light"
     },
     "output_type": "display_data"
    }
   ],
   "source": [
    "# observe that data has been balanced\n",
    "pd.Series(y_smoted).value_counts().plot.bar()"
   ]
  },
  {
   "cell_type": "markdown",
   "id": "38296857",
   "metadata": {},
   "source": [
    "### Machine Learning Models"
   ]
  },
  {
   "cell_type": "code",
   "execution_count": 32,
   "id": "7b77a84b",
   "metadata": {},
   "outputs": [],
   "source": [
    "# list to contain model and accuracy values\n",
    "eva_list = []\n",
    "# to contain model names\n",
    "models = []"
   ]
  },
  {
   "cell_type": "markdown",
   "id": "a0d1029a",
   "metadata": {},
   "source": [
    "### Logistic Regression"
   ]
  },
  {
   "cell_type": "code",
   "execution_count": 33,
   "id": "9b0fcb31",
   "metadata": {},
   "outputs": [
    {
     "name": "stdout",
     "output_type": "stream",
     "text": [
      "Train Accuracy of Logistic Regression: % 82.8\n",
      "Test Accuracy of Logistic Regression: % 81.36\n",
      "Precision : 0.5193711218359106\n",
      "Recall : 0.8158930292322519\n",
      "F1-score : 0.4871362214427908\n"
     ]
    }
   ],
   "source": [
    "lr = LogisticRegression()\n",
    "lr.fit(X_smoted, y_smoted)\n",
    "y_pred_l = lr.predict(X_test)\n",
    "\n",
    "lr_acc = round(lr.score(X_smoted, y_smoted) * 100, 2)\n",
    "lr_acc_test = round(accuracy_score(y_test, y_pred_l) * 100, 2)\n",
    "print(f'Train Accuracy of Logistic Regression: % {lr_acc}')\n",
    "print(f'Test Accuracy of Logistic Regression: % {lr_acc_test}')\n",
    "\n",
    "# Get precision, recall, and f1\n",
    "precision, recall, f1, support = score(y_test, y_pred_l, average = 'macro')\n",
    "print(f'Precision : {precision}')\n",
    "print(f'Recall : {recall}')\n",
    "print(f'F1-score : {f1}')"
   ]
  },
  {
   "cell_type": "code",
   "execution_count": 34,
   "id": "1ea07a90",
   "metadata": {},
   "outputs": [],
   "source": [
    "# Add performance parameters to list\n",
    "eva_list.append(dict([\n",
    "    ('Model', 'Logistic Regression'),\n",
    "    ('Train Accuracy', round(lr_acc, 2)),\n",
    "    ('Test Accuracy', round(lr_acc_test, 2)),\n",
    "    ('Precision', round(precision, 2)),\n",
    "    ('Recall', round(recall, 2)),\n",
    "    ('F1', round(f1, 2))\n",
    "     ]))"
   ]
  },
  {
   "cell_type": "markdown",
   "id": "dc147d53",
   "metadata": {},
   "source": [
    "### Linear SVC"
   ]
  },
  {
   "cell_type": "code",
   "execution_count": 35,
   "id": "eacbf06d",
   "metadata": {},
   "outputs": [],
   "source": [
    "# svc = SVC(kernel='linear', gamma=0.001, C=100, probability=True)\n",
    "# svc.fit(X_smoted, y_smoted)\n",
    "# y_pred_s = svc.predict(X_test)\n",
    "\n",
    "# svc_acc = round(svc.score(X_smoted, y_smoted) * 100, 2)\n",
    "# svc_acc_test = round(accuracy_score(y_test, y_pred_s) * 100, 2)\n",
    "\n",
    "# print(f'Train Accuracy Score of LinearSVC: % {svc_acc}')\n",
    "# print(f'Test Accuracy Score of LinearSVC: % {svc_acc_test}')\n",
    "\n",
    "# # Get precision, recall, f1 scores\n",
    "# precision, recall, f1, support = score(y_test, y_pred_s, average='macro')\n",
    "# print(f'Precision : {precision}')\n",
    "# print(f'Recall    : {recall}')\n",
    "# print(f'F1-score   : {f1}')"
   ]
  },
  {
   "cell_type": "code",
   "execution_count": 36,
   "id": "55962ec7",
   "metadata": {},
   "outputs": [
    {
     "name": "stdout",
     "output_type": "stream",
     "text": [
      "Train Accuracy of KNN: % 98.15\n",
      "Test Accuracy of KNN: % 95.36\n",
      "Precision : 0.5675830287621166\n",
      "Recall : 0.8415515579826534\n",
      "F1-score : 0.6039889392245691\n"
     ]
    }
   ],
   "source": [
    "\n",
    "\n",
    "knn = KNeighborsClassifier(n_neighbors=5)\n",
    "knn.fit(X_smoted, y_smoted)\n",
    "y_pred = knn.predict(X_test)\n",
    "\n",
    "knn_acc = round(knn.score(X_smoted, y_smoted) * 100, 2)\n",
    "knn_acc_test = round(accuracy_score(y_test, y_pred) * 100, 2)\n",
    "print(f'Train Accuracy of KNN: % {knn_acc}')\n",
    "print(f'Test Accuracy of KNN: % {knn_acc_test}')\n",
    "\n",
    "# Get precision, recall, and f1\n",
    "precision, recall, f1, support = score(y_test, y_pred, average = 'macro')\n",
    "print(f'Precision : {precision}')\n",
    "print(f'Recall : {recall}')\n",
    "print(f'F1-score : {f1}')\n",
    "\n"
   ]
  },
  {
   "cell_type": "code",
   "execution_count": 37,
   "id": "23137fd6",
   "metadata": {},
   "outputs": [],
   "source": [
    "eva_list.append(dict([\n",
    "    ('Model', 'K-Nearest Neighbors'),\n",
    "    ('Train Accuracy', round(knn_acc, 2)),\n",
    "    ('Test Accuracy', round(knn_acc_test, 2)),\n",
    "    ('Precision', round(precision, 2)),\n",
    "    ('Recall', round(recall, 2)),\n",
    "    ('F1', round(f1, 2))\n",
    "     ]))"
   ]
  },
  {
   "cell_type": "markdown",
   "id": "ec834caa",
   "metadata": {},
   "source": [
    "### Naive Bayes"
   ]
  },
  {
   "cell_type": "code",
   "execution_count": 38,
   "id": "01048d16",
   "metadata": {},
   "outputs": [
    {
     "name": "stdout",
     "output_type": "stream",
     "text": [
      "Train Accuracy Score of GaussianNB: % 54.69\n",
      "Test Accuracy Score of GaussianNB: % 10.24\n",
      "Precision : 0.5053037608486017\n",
      "Recall    : 0.5468197879858657\n",
      "F1-score   : 0.09611815412694694\n"
     ]
    }
   ],
   "source": [
    "nbg = GaussianNB()\n",
    "nbg.fit(X_smoted, y_smoted)\n",
    "y_pred_n = nbg.predict(X_test)\n",
    "\n",
    "nbg_acc=round(nbg.score(X_smoted, y_smoted) * 100, 2)\n",
    "nbg_acc_test=round(accuracy_score(y_test, y_pred_n) * 100, 2)\n",
    "\n",
    "print(f'Train Accuracy Score of GaussianNB: % {nbg_acc}')\n",
    "print(f'Test Accuracy Score of GaussianNB: % {nbg_acc_test}')\n",
    "\n",
    "# Get precision, recall, f1 scores\n",
    "precision, recall, f1, support = score(y_test, y_pred_n, average='macro')\n",
    "print(f'Precision : {precision}')\n",
    "print(f'Recall    : {recall}')\n",
    "print(f'F1-score   : {f1}')"
   ]
  },
  {
   "cell_type": "code",
   "execution_count": 40,
   "id": "27759707",
   "metadata": {},
   "outputs": [],
   "source": [
    "eva_list.append(dict([\n",
    "    ('Model', 'Gaussian Naive Bayes'),\n",
    "    ('Train Accuracy', round(nbg_acc, 2)),\n",
    "    ('Test Accuracy', round(nbg_acc_test, 2)),\n",
    "    ('Precision', round(precision, 2)),\n",
    "    ('Recall', round(recall, 2)),\n",
    "    ('F1', round(f1, 2))\n",
    "     ]))"
   ]
  },
  {
   "cell_type": "markdown",
   "id": "b9a0e23b",
   "metadata": {},
   "source": [
    "### Decision Trees"
   ]
  },
  {
   "cell_type": "code",
   "execution_count": 41,
   "id": "8b5f1cce",
   "metadata": {},
   "outputs": [
    {
     "name": "stdout",
     "output_type": "stream",
     "text": [
      "Train Accuracy Score of Decision Trees: % 100.0\n",
      "Test Accuracy Score of Decision Trees: % 97.99\n",
      "Precision : 0.5797777777777778\n",
      "Recall    : 0.6297381946675233\n",
      "F1-score   : 0.5983530166684492\n"
     ]
    }
   ],
   "source": [
    "dt = DecisionTreeClassifier()\n",
    "dt.fit(X_smoted, y_smoted)\n",
    "y_pred = dt.predict(X_test)\n",
    "\n",
    "dt_acc = round(dt.score(X_smoted, y_smoted) * 100, 2)\n",
    "dt_acc_test = round(accuracy_score(y_test, y_pred) * 100, 2)\n",
    "print(f'Train Accuracy Score of Decision Trees: % {dt_acc}')\n",
    "print(f'Test Accuracy Score of Decision Trees: % {dt_acc_test}')\n",
    "\n",
    "# Get precision, recall, f1 scores\n",
    "precision, recall, f1, support = score(y_test, y_pred, average='macro')\n",
    "print(f'Precision : {precision}')\n",
    "print(f'Recall    : {recall}')\n",
    "print(f'F1-score   : {f1}')"
   ]
  },
  {
   "cell_type": "code",
   "execution_count": 44,
   "id": "47a1ccf0",
   "metadata": {},
   "outputs": [],
   "source": [
    "eva_list.append(dict([\n",
    "    ('Model', 'Decision Trees'),\n",
    "    ('Train Accuracy', round(dt_acc, 2)),\n",
    "    ('Test Accuracy', round(dt_acc_test, 2)),\n",
    "    ('Precision', round(precision, 2)),\n",
    "    ('Recall', round(recall, 2)),\n",
    "    ('F1', round(f1, 2))\n",
    "     ]))"
   ]
  },
  {
   "cell_type": "code",
   "execution_count": 45,
   "id": "b1bacba9",
   "metadata": {},
   "outputs": [
    {
     "data": {
      "text/html": [
       "<div>\n",
       "<style scoped>\n",
       "    .dataframe tbody tr th:only-of-type {\n",
       "        vertical-align: middle;\n",
       "    }\n",
       "\n",
       "    .dataframe tbody tr th {\n",
       "        vertical-align: top;\n",
       "    }\n",
       "\n",
       "    .dataframe thead th {\n",
       "        text-align: right;\n",
       "    }\n",
       "</style>\n",
       "<table border=\"1\" class=\"dataframe\">\n",
       "  <thead>\n",
       "    <tr style=\"text-align: right;\">\n",
       "      <th></th>\n",
       "      <th>importance</th>\n",
       "    </tr>\n",
       "    <tr>\n",
       "      <th>feature</th>\n",
       "      <th></th>\n",
       "    </tr>\n",
       "  </thead>\n",
       "  <tbody>\n",
       "    <tr>\n",
       "      <th>stellar_radius</th>\n",
       "      <td>0.388436</td>\n",
       "    </tr>\n",
       "    <tr>\n",
       "      <th>planet_orbital_period</th>\n",
       "      <td>0.335720</td>\n",
       "    </tr>\n",
       "    <tr>\n",
       "      <th>planet_radius</th>\n",
       "      <td>0.196890</td>\n",
       "    </tr>\n",
       "    <tr>\n",
       "      <th>number_of_planets</th>\n",
       "      <td>0.037799</td>\n",
       "    </tr>\n",
       "    <tr>\n",
       "      <th>stellar_mass</th>\n",
       "      <td>0.016855</td>\n",
       "    </tr>\n",
       "    <tr>\n",
       "      <th>orbit_semimajor_axis</th>\n",
       "      <td>0.015560</td>\n",
       "    </tr>\n",
       "    <tr>\n",
       "      <th>stellar_temperature</th>\n",
       "      <td>0.005985</td>\n",
       "    </tr>\n",
       "    <tr>\n",
       "      <th>number_of_stars</th>\n",
       "      <td>0.002755</td>\n",
       "    </tr>\n",
       "  </tbody>\n",
       "</table>\n",
       "</div>"
      ],
      "text/plain": [
       "                       importance\n",
       "feature                          \n",
       "stellar_radius           0.388436\n",
       "planet_orbital_period    0.335720\n",
       "planet_radius            0.196890\n",
       "number_of_planets        0.037799\n",
       "stellar_mass             0.016855\n",
       "orbit_semimajor_axis     0.015560\n",
       "stellar_temperature      0.005985\n",
       "number_of_stars          0.002755"
      ]
     },
     "execution_count": 45,
     "metadata": {},
     "output_type": "execute_result"
    }
   ],
   "source": [
    "# View feature importances\n",
    "importances_dt = pd.DataFrame({'feature': X_train.columns,\n",
    "                             'importance': dt.feature_importances_})\n",
    "importances_dt = importances_dt.sort_values('importance',ascending=False).set_index('feature')\n",
    "importances_dt"
   ]
  },
  {
   "cell_type": "markdown",
   "id": "ae9a2b3e",
   "metadata": {},
   "source": [
    "### Random Forest"
   ]
  },
  {
   "cell_type": "code",
   "execution_count": 46,
   "id": "7a04ab48",
   "metadata": {},
   "outputs": [
    {
     "name": "stdout",
     "output_type": "stream",
     "text": [
      "Train Accuracy Score of Random Forest: % 100.0\n",
      "Test Accuracy Score of Random Forest: % 98.34\n",
      "Precision : 0.6362222222222222\n",
      "Recall    : 0.7215306778027626\n",
      "F1-score   : 0.6682046659435015\n"
     ]
    }
   ],
   "source": [
    "num_estimator = 100\n",
    "seed = 7\n",
    "rf = RandomForestClassifier(n_estimators=num_estimator)\n",
    "rf.fit(X_smoted, y_smoted)\n",
    "y_predr = rf.predict(X_test)\n",
    "\n",
    "rf_acc = round(rf.score(X_smoted, y_smoted) * 100, 2)\n",
    "rf_acc_test = round(accuracy_score(y_test, y_predr) * 100, 2)\n",
    "print(f'Train Accuracy Score of Random Forest: % {rf_acc}')\n",
    "print(f'Test Accuracy Score of Random Forest: % {rf_acc_test}')\n",
    "\n",
    "# Get precision, recall, f1 scores\n",
    "precision, recall, f1, support = score(y_test, y_predr, average='macro')\n",
    "print(f'Precision : {precision}')\n",
    "print(f'Recall    : {recall}')\n",
    "print(f'F1-score   : {f1}')"
   ]
  },
  {
   "cell_type": "code",
   "execution_count": 47,
   "id": "67b0f727",
   "metadata": {},
   "outputs": [],
   "source": [
    "eva_list.append(dict([\n",
    "    ('Model', 'Random Forest'),\n",
    "    ('Train Accuracy', round(rf_acc, 2)),\n",
    "    ('Test Accuracy', round(rf_acc_test, 2)),\n",
    "    ('Precision', round(precision, 2)),\n",
    "    ('Recall', round(recall, 2)),\n",
    "    ('F1', round(f1, 2))\n",
    "     ]))"
   ]
  },
  {
   "cell_type": "code",
   "execution_count": 48,
   "id": "83980abe",
   "metadata": {},
   "outputs": [
    {
     "data": {
      "text/html": [
       "<div>\n",
       "<style scoped>\n",
       "    .dataframe tbody tr th:only-of-type {\n",
       "        vertical-align: middle;\n",
       "    }\n",
       "\n",
       "    .dataframe tbody tr th {\n",
       "        vertical-align: top;\n",
       "    }\n",
       "\n",
       "    .dataframe thead th {\n",
       "        text-align: right;\n",
       "    }\n",
       "</style>\n",
       "<table border=\"1\" class=\"dataframe\">\n",
       "  <thead>\n",
       "    <tr style=\"text-align: right;\">\n",
       "      <th></th>\n",
       "      <th>importance</th>\n",
       "    </tr>\n",
       "    <tr>\n",
       "      <th>feature</th>\n",
       "      <th></th>\n",
       "    </tr>\n",
       "  </thead>\n",
       "  <tbody>\n",
       "    <tr>\n",
       "      <th>planet_orbital_period</th>\n",
       "      <td>0.204972</td>\n",
       "    </tr>\n",
       "    <tr>\n",
       "      <th>stellar_radius</th>\n",
       "      <td>0.175875</td>\n",
       "    </tr>\n",
       "    <tr>\n",
       "      <th>orbit_semimajor_axis</th>\n",
       "      <td>0.156851</td>\n",
       "    </tr>\n",
       "    <tr>\n",
       "      <th>stellar_mass</th>\n",
       "      <td>0.155402</td>\n",
       "    </tr>\n",
       "    <tr>\n",
       "      <th>stellar_temperature</th>\n",
       "      <td>0.136623</td>\n",
       "    </tr>\n",
       "    <tr>\n",
       "      <th>planet_radius</th>\n",
       "      <td>0.110766</td>\n",
       "    </tr>\n",
       "    <tr>\n",
       "      <th>number_of_planets</th>\n",
       "      <td>0.054203</td>\n",
       "    </tr>\n",
       "    <tr>\n",
       "      <th>number_of_stars</th>\n",
       "      <td>0.005309</td>\n",
       "    </tr>\n",
       "  </tbody>\n",
       "</table>\n",
       "</div>"
      ],
      "text/plain": [
       "                       importance\n",
       "feature                          \n",
       "planet_orbital_period    0.204972\n",
       "stellar_radius           0.175875\n",
       "orbit_semimajor_axis     0.156851\n",
       "stellar_mass             0.155402\n",
       "stellar_temperature      0.136623\n",
       "planet_radius            0.110766\n",
       "number_of_planets        0.054203\n",
       "number_of_stars          0.005309"
      ]
     },
     "execution_count": 48,
     "metadata": {},
     "output_type": "execute_result"
    }
   ],
   "source": [
    "# View feature importances\n",
    "importances_rf = pd.DataFrame({'feature': X_train.columns,\n",
    "                             'importance': rf.feature_importances_})\n",
    "importances_rf = importances_rf.sort_values('importance',ascending=False).set_index('feature')\n",
    "importances_rf"
   ]
  },
  {
   "cell_type": "markdown",
   "id": "d36335e7",
   "metadata": {},
   "source": [
    "### Stochastic Gradient Boosting Classifier"
   ]
  },
  {
   "cell_type": "code",
   "execution_count": 49,
   "id": "16749cfa",
   "metadata": {},
   "outputs": [
    {
     "name": "stdout",
     "output_type": "stream",
     "text": [
      "Train Accuracy Score of Gradient Boosting: % 96.11\n",
      "Test Accuracy Score of Gradient Boosting: % 91.86\n",
      "Precision : 0.5393809198320477\n",
      "Recall    : 0.8238837134596853\n",
      "F1-score   : 0.5520348261432069\n"
     ]
    }
   ],
   "source": [
    "gbc = GradientBoostingClassifier(n_estimators=num_estimator, learning_rate=0.01,\n",
    "                                random_state=seed)\n",
    "gbc.fit(X_smoted, y_smoted)\n",
    "y_pred_g = gbc.predict(X_test)\n",
    "\n",
    "gbc_acc = round(gbc.score(X_smoted, y_smoted) * 100, 2)\n",
    "gbc_acc_test = round(accuracy_score(y_test, y_pred_g) * 100, 2)\n",
    "print(f'Train Accuracy Score of Gradient Boosting: % {gbc_acc}')\n",
    "print(f'Test Accuracy Score of Gradient Boosting: % {gbc_acc_test}')\n",
    "\n",
    "# Get precision, recall, f1 scores\n",
    "precision, recall, f1, support = score(y_test, y_pred_g, average='macro')\n",
    "print(f'Precision : {precision}')\n",
    "print(f'Recall    : {recall}')\n",
    "print(f'F1-score   : {f1}')"
   ]
  },
  {
   "cell_type": "code",
   "execution_count": 50,
   "id": "670e4e77",
   "metadata": {},
   "outputs": [],
   "source": [
    "eva_list.append(dict([\n",
    "    ('Model', 'Stochastic Gradient Boosting Classifier'),\n",
    "    ('Train Accuracy', round(gbc_acc, 2)),\n",
    "    ('Test Accuracy', round(gbc_acc_test, 2)),\n",
    "    ('Precision', round(precision, 2)),\n",
    "    ('Recall', round(recall, 2)),\n",
    "    ('F1', round(f1, 2))\n",
    "     ]))"
   ]
  },
  {
   "cell_type": "markdown",
   "id": "6f27dd31",
   "metadata": {},
   "source": [
    "### AdaBoost Classifier"
   ]
  },
  {
   "cell_type": "code",
   "execution_count": 51,
   "id": "888efad2",
   "metadata": {},
   "outputs": [
    {
     "name": "stdout",
     "output_type": "stream",
     "text": [
      "Train Accuracy Score of AdaBoostClassifier: % 100.0\n",
      "Test Accuracy Score of AdaBoostClassifier: % 98.25\n",
      "Precision : 0.5964539007092199\n",
      "Recall    : 0.631063283006746\n",
      "F1-score   : 0.6109598366235535\n"
     ]
    }
   ],
   "source": [
    "abc = AdaBoostClassifier(base_estimator=rf, n_estimators=num_estimator, random_state = seed)\n",
    "abc.fit(X_smoted, y_smoted)\n",
    "y_pred = abc.predict(X_test)\n",
    "\n",
    "abc_acc = round(abc.score(X_smoted, y_smoted) *100 , 2)\n",
    "abc_acc_test = round(accuracy_score(y_test, y_pred) * 100 ,2)\n",
    "\n",
    "print(f'Train Accuracy Score of AdaBoostClassifier: % {abc_acc}')\n",
    "print(f'Test Accuracy Score of AdaBoostClassifier: % {abc_acc_test}')\n",
    "\n",
    "# Get precision, recall, f1 scores\n",
    "precision, recall, f1score, support = score(y_test, y_pred, average='macro')\n",
    "print(f'Precision : {precision}')\n",
    "print(f'Recall    : {recall}')\n",
    "print(f'F1-score   : {f1score}')"
   ]
  },
  {
   "cell_type": "code",
   "execution_count": 52,
   "id": "9e61a3a8",
   "metadata": {},
   "outputs": [],
   "source": [
    "eva_list.append(dict([\n",
    "    ('Model', 'AdaBoost Classifier'),\n",
    "    ('Train Accuracy', round(abc_acc, 2)),\n",
    "    ('Test Accuracy', round(abc_acc_test, 2)),\n",
    "    ('Precision', round(precision, 2)),\n",
    "    ('Recall', round(recall, 2)),\n",
    "    ('F1', round(f1score, 2))\n",
    "     ]))"
   ]
  },
  {
   "cell_type": "markdown",
   "id": "674f2ead",
   "metadata": {},
   "source": [
    "### Voting Algorithms"
   ]
  },
  {
   "cell_type": "code",
   "execution_count": 53,
   "id": "be2dccd9",
   "metadata": {},
   "outputs": [
    {
     "name": "stdout",
     "output_type": "stream",
     "text": [
      "Train Accuracy Score of Hard VotingClassifier: % 97.12\n",
      "Test Accuracy Score of Hard VotingClassifier: % 93.09\n",
      "Precision : 0.5462026170241467\n",
      "Recall    : 0.830067459042724\n",
      "F1-score   : 0.5661822287347762\n"
     ]
    }
   ],
   "source": [
    "# Hard Voting\n",
    "vc_hard = VotingClassifier(\n",
    "    estimators=[('lr', lr), ('nb',nbg), ('rf', rf), ('gbc', gbc)],\n",
    "    voting = 'hard')\n",
    "\n",
    "vc_hard.fit(X_smoted, y_smoted)\n",
    "y_pred = vc_hard.predict(X_test)\n",
    "\n",
    "vch_acc = round(vc_hard.score(X_smoted, y_smoted) * 100, 2)\n",
    "vch_acc_test = round(accuracy_score(y_test, y_pred) * 100, 2)\n",
    "\n",
    "print(f'Train Accuracy Score of Hard VotingClassifier: % {vch_acc}')\n",
    "print(f'Test Accuracy Score of Hard VotingClassifier: % {vch_acc_test}')\n",
    "\n",
    "# Get precision, recall, f1 scores\n",
    "precision, recall, f1score, support = score(y_test, y_pred, average='macro')\n",
    "print(f'Precision : {precision}')\n",
    "print(f'Recall    : {recall}')\n",
    "print(f'F1-score   : {f1score}')"
   ]
  },
  {
   "cell_type": "code",
   "execution_count": 54,
   "id": "55812ada",
   "metadata": {},
   "outputs": [],
   "source": [
    "eva_list.append(dict([\n",
    "    ('Model', 'Hard Voting'),\n",
    "    ('Train Accuracy', round(vch_acc, 2)),\n",
    "    ('Test Accuracy', round(vch_acc_test, 2)),\n",
    "    ('Precision', round(precision, 2)),\n",
    "    ('Recall', round(recall, 2)),\n",
    "    ('F1', round(f1score, 2))\n",
    "     ]))"
   ]
  },
  {
   "cell_type": "markdown",
   "id": "dad90ee8",
   "metadata": {},
   "source": [
    "### XGBoost"
   ]
  },
  {
   "cell_type": "code",
   "execution_count": null,
   "id": "329ede44",
   "metadata": {},
   "outputs": [],
   "source": [
    "xgboost = xgb.XGBClassifier(silent=False, \n",
    "                      scale_pos_weight=1,\n",
    "                      learning_rate=0.01,  \n",
    "                      colsample_bytree = 0.4,\n",
    "                      subsample = 0.8,\n",
    "                      objective='binary:logistic', \n",
    "                      n_estimators=1000, \n",
    "                      reg_alpha = 0.3,\n",
    "                      max_depth=4, \n",
    "                      gamma=10)\n",
    "\n",
    "xgboost.fit(X_smoted, y_smoted)\n",
    "y_predx = xgboost.predict(X_test)\n",
    "\n",
    "xg_acc = round(xgboost.score(X_smoted, y_smoted) * 100, 2)\n",
    "xg_acc_test = round(accuracy_score(y_test, y_predx) * 100, 2)\n",
    "\n",
    "print(f'Train Accuracy Score of Hard VotingClassifier: % {xg_acc}')\n",
    "print(f'Test Accuracy Score of Hard VotingClassifier: % {xg_acc_test}')\n",
    "\n",
    "# Get precision, recall, f1 scores\n",
    "precision, recall, f1score, support = score(y_test, y_predx, average='macro')\n",
    "print(f'Precision : {precision}')\n",
    "print(f'Recall    : {recall}')\n",
    "print(f'F1-score   : {f1score}')"
   ]
  },
  {
   "cell_type": "code",
   "execution_count": 56,
   "id": "1c61c509",
   "metadata": {},
   "outputs": [],
   "source": [
    "eva_list.append(dict([\n",
    "    ('Model', 'XGBoost'),\n",
    "    ('Train Accuracy', round(xg_acc, 2)),\n",
    "    ('Test Accuracy', round(xg_acc_test, 2)),\n",
    "    ('Precision', round(precision, 2)),\n",
    "    ('Recall', round(recall, 2)),\n",
    "    ('F1', round(f1score, 2))\n",
    "     ]))"
   ]
  },
  {
   "cell_type": "markdown",
   "id": "b8760c7b",
   "metadata": {},
   "source": [
    "##  Evaluation"
   ]
  },
  {
   "cell_type": "code",
   "execution_count": 57,
   "id": "e8ad9a26",
   "metadata": {},
   "outputs": [
    {
     "data": {
      "text/html": [
       "<div>\n",
       "<style scoped>\n",
       "    .dataframe tbody tr th:only-of-type {\n",
       "        vertical-align: middle;\n",
       "    }\n",
       "\n",
       "    .dataframe tbody tr th {\n",
       "        vertical-align: top;\n",
       "    }\n",
       "\n",
       "    .dataframe thead th {\n",
       "        text-align: right;\n",
       "    }\n",
       "</style>\n",
       "<table border=\"1\" class=\"dataframe\">\n",
       "  <thead>\n",
       "    <tr style=\"text-align: right;\">\n",
       "      <th></th>\n",
       "      <th>Train Accuracy</th>\n",
       "      <th>Test Accuracy</th>\n",
       "      <th>Precision</th>\n",
       "      <th>Recall</th>\n",
       "      <th>F1</th>\n",
       "    </tr>\n",
       "    <tr>\n",
       "      <th>Model</th>\n",
       "      <th></th>\n",
       "      <th></th>\n",
       "      <th></th>\n",
       "      <th></th>\n",
       "      <th></th>\n",
       "    </tr>\n",
       "  </thead>\n",
       "  <tbody>\n",
       "    <tr>\n",
       "      <th>XGBoost</th>\n",
       "      <td>99.32</td>\n",
       "      <td>97.46</td>\n",
       "      <td>0.62</td>\n",
       "      <td>0.90</td>\n",
       "      <td>0.69</td>\n",
       "    </tr>\n",
       "    <tr>\n",
       "      <th>K-Nearest Neighbors</th>\n",
       "      <td>98.15</td>\n",
       "      <td>95.36</td>\n",
       "      <td>0.57</td>\n",
       "      <td>0.84</td>\n",
       "      <td>0.60</td>\n",
       "    </tr>\n",
       "    <tr>\n",
       "      <th>Hard Voting</th>\n",
       "      <td>97.12</td>\n",
       "      <td>93.09</td>\n",
       "      <td>0.55</td>\n",
       "      <td>0.83</td>\n",
       "      <td>0.57</td>\n",
       "    </tr>\n",
       "    <tr>\n",
       "      <th>Logistic Regression</th>\n",
       "      <td>82.80</td>\n",
       "      <td>81.36</td>\n",
       "      <td>0.52</td>\n",
       "      <td>0.82</td>\n",
       "      <td>0.49</td>\n",
       "    </tr>\n",
       "    <tr>\n",
       "      <th>Stochastic Gradient Boosting Classifier</th>\n",
       "      <td>96.11</td>\n",
       "      <td>91.86</td>\n",
       "      <td>0.54</td>\n",
       "      <td>0.82</td>\n",
       "      <td>0.55</td>\n",
       "    </tr>\n",
       "    <tr>\n",
       "      <th>Random Forest</th>\n",
       "      <td>100.00</td>\n",
       "      <td>98.34</td>\n",
       "      <td>0.64</td>\n",
       "      <td>0.72</td>\n",
       "      <td>0.67</td>\n",
       "    </tr>\n",
       "    <tr>\n",
       "      <th>Decision Trees</th>\n",
       "      <td>100.00</td>\n",
       "      <td>97.99</td>\n",
       "      <td>0.58</td>\n",
       "      <td>0.63</td>\n",
       "      <td>0.60</td>\n",
       "    </tr>\n",
       "    <tr>\n",
       "      <th>AdaBoost Classifier</th>\n",
       "      <td>100.00</td>\n",
       "      <td>98.25</td>\n",
       "      <td>0.60</td>\n",
       "      <td>0.63</td>\n",
       "      <td>0.61</td>\n",
       "    </tr>\n",
       "    <tr>\n",
       "      <th>Gaussian Naive Bayes</th>\n",
       "      <td>54.69</td>\n",
       "      <td>10.24</td>\n",
       "      <td>0.51</td>\n",
       "      <td>0.55</td>\n",
       "      <td>0.10</td>\n",
       "    </tr>\n",
       "  </tbody>\n",
       "</table>\n",
       "</div>"
      ],
      "text/plain": [
       "                                         Train Accuracy  Test Accuracy  \\\n",
       "Model                                                                    \n",
       "XGBoost                                           99.32          97.46   \n",
       "K-Nearest Neighbors                               98.15          95.36   \n",
       "Hard Voting                                       97.12          93.09   \n",
       "Logistic Regression                               82.80          81.36   \n",
       "Stochastic Gradient Boosting Classifier           96.11          91.86   \n",
       "Random Forest                                    100.00          98.34   \n",
       "Decision Trees                                   100.00          97.99   \n",
       "AdaBoost Classifier                              100.00          98.25   \n",
       "Gaussian Naive Bayes                              54.69          10.24   \n",
       "\n",
       "                                         Precision  Recall    F1  \n",
       "Model                                                             \n",
       "XGBoost                                       0.62    0.90  0.69  \n",
       "K-Nearest Neighbors                           0.57    0.84  0.60  \n",
       "Hard Voting                                   0.55    0.83  0.57  \n",
       "Logistic Regression                           0.52    0.82  0.49  \n",
       "Stochastic Gradient Boosting Classifier       0.54    0.82  0.55  \n",
       "Random Forest                                 0.64    0.72  0.67  \n",
       "Decision Trees                                0.58    0.63  0.60  \n",
       "AdaBoost Classifier                           0.60    0.63  0.61  \n",
       "Gaussian Naive Bayes                          0.51    0.55  0.10  "
      ]
     },
     "execution_count": 57,
     "metadata": {},
     "output_type": "execute_result"
    }
   ],
   "source": [
    "results = pd.DataFrame(data=eva_list)\n",
    "results = results[['Model', 'Train Accuracy', 'Test Accuracy', 'Precision', 'Recall', 'F1']]\n",
    "results = results.sort_values(by='Recall', ascending=False)\n",
    "results = results.set_index('Model')\n",
    "results"
   ]
  },
  {
   "cell_type": "markdown",
   "id": "21b0797a",
   "metadata": {},
   "source": [
    "### Confusion Matrix"
   ]
  },
  {
   "cell_type": "code",
   "execution_count": 59,
   "id": "f4b8af60",
   "metadata": {},
   "outputs": [],
   "source": [
    "conf_xg = confusion_matrix(y_test, y_predx)\n",
    "\n",
    "def conf_matrix(x):\n",
    "    plt.figure(dpi=125)\n",
    "    sns.heatmap(x, cmap=plt.cm.Reds, annot=True, square=True,fmt='d',\n",
    "               xticklabels=['not habitable', 'habitable'],\n",
    "               yticklabels=['not habitable', 'habitable'])\n",
    "\n",
    "    plt.xlabel('Predicted planets')\n",
    "    plt.ylabel('Actual planets')"
   ]
  },
  {
   "cell_type": "code",
   "execution_count": 60,
   "id": "f37e36d3",
   "metadata": {},
   "outputs": [
    {
     "data": {
      "text/plain": [
       "Text(0.5, 1.0, 'Confusion Matrix of XGBoost')"
      ]
     },
     "execution_count": 60,
     "metadata": {},
     "output_type": "execute_result"
    },
    {
     "data": {
      "image/png": "[encoded data removed]",
      "text/plain": [
       "<Figure size 750x500 with 2 Axes>"
      ]
     },
     "metadata": {
      "needs_background": "light"
     },
     "output_type": "display_data"
    }
   ],
   "source": [
    "conf_matrix(conf_xg)\n",
    "plt.title('Confusion Matrix of XGBoost')"
   ]
  },
  {
   "cell_type": "code",
   "execution_count": 64,
   "id": "9995de12",
   "metadata": {},
   "outputs": [],
   "source": [
    "# saving model\n",
    "pickle.dump(xgboost, open(\"model.pkl\",\"wb\"))"
   ]
  },
  {
   "cell_type": "markdown",
   "id": "bdf3816b",
   "metadata": {},
   "source": [
    "***PRAKHAR_VARSHNEY***"
   ]
  }
 ],
 "metadata": {
  "kernelspec": {
   "display_name": "Python 3",
   "language": "python",
   "name": "python3"
  },
  "language_info": {
   "codemirror_mode": {
    "name": "ipython",
    "version": 3
   },
   "file_extension": ".py",
   "mimetype": "text/x-python",
   "name": "python",
   "nbconvert_exporter": "python",
   "pygments_lexer": "ipython3",
   "version": "3.8.8"
  }
 },
 "nbformat": 4,
 "nbformat_minor": 5
}
